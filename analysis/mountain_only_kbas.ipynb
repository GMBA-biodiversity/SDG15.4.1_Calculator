{
 "cells": [
  {
   "cell_type": "code",
   "execution_count": null,
   "metadata": {},
   "outputs": [],
   "source": [
    "## The purpose of this script is to create a layer that is only mountainous KBAs\n",
    "## No need to deal with transboundary, because KBAs are split by country\n",
    "## Using this together with the R Script to calculate overlap will result in mountain-only regions \n",
    "## (but not by mountain range)\n",
    "\n",
    "## import libraries\n",
    "%matplotlib inline\n",
    "\n",
    "import matplotlib.pyplot as plt\n",
    "import pandas as pd\n",
    "import numpy as np\n",
    "import descartes\n",
    "from shapely.geometry import Polygon\n",
    "import geopandas as gpd\n",
    "import os.path\n",
    "from PIL import Image\n",
    "import rasterio"
   ]
  },
  {
   "cell_type": "code",
   "execution_count": null,
   "metadata": {},
   "outputs": [],
   "source": [
    "## global variables\n",
    "os.chdir(\"/Users/aminaly/Box Sync/mountain_biodiversity\")\n",
    "CLIP = True\n",
    "\n",
    "## read in files \n",
    "if(CLIP): \n",
    "    kba = gpd.read_file(os.getcwd() + \"/data/KBA/KBA2020/KBAsGlobal_2020_September_02_POL.shp\")\n",
    "    gmba = gpd.read_file(os.getcwd() + \"/data/GMBA/GMBA_Inventory_V2_210420_GME/GMBA_Inventory_V2_210420_GME.shp\")\n",
    "else:\n",
    "    kba = gpd.read_file(os.getcwd() + \"/data/KBA/KBA2020/clipped_KBAsGlobal_2020_September_02_POL.shp\")\n",
    "    gmba = gpd.read_file(os.getcwd() + \"/data/GMBA/GMBA_Inventory_V2_210420_GME/clipped_GMBA_Inventory_V2_210420_GME.shp\")\n"
   ]
  },
  {
   "cell_type": "code",
   "execution_count": null,
   "metadata": {},
   "outputs": [],
   "source": [
    "## subset gmba to the level you care about UPDATE THIS\n",
    "gmba_sub = gmba.LEVEL"
   ]
  }
 ],
 "metadata": {
  "kernelspec": {
   "display_name": "Python 3",
   "language": "python",
   "name": "python3"
  },
  "language_info": {
   "codemirror_mode": {
    "name": "ipython",
    "version": 3
   },
   "file_extension": ".py",
   "mimetype": "text/x-python",
   "name": "python",
   "nbconvert_exporter": "python",
   "pygments_lexer": "ipython3",
   "version": "3.7.3"
  }
 },
 "nbformat": 4,
 "nbformat_minor": 2
}
