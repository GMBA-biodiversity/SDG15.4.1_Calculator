{
 "cells": [
  {
   "cell_type": "code",
   "execution_count": null,
   "metadata": {},
   "outputs": [],
   "source": [
    "## This file is meant to be run only once\n",
    "%matplotlib inline\n",
    "\n",
    "import matplotlib.pyplot as plt\n",
    "import pandas as pd\n",
    "import numpy as np\n",
    "import descartes\n",
    "from shapely.geometry import Polygon\n",
    "import geopandas as gpd\n",
    "import os.path\n",
    "from PIL import Image\n",
    "import rasterio\n",
    "import math\n",
    "\n",
    "# read in all of your files #TODO make sure these match your file path\n",
    "os.chdir(\"/Users/aminaly/Box Sync/mountain_biodiversity\")"
   ]
  },
  {
   "cell_type": "code",
   "execution_count": null,
   "metadata": {},
   "outputs": [],
   "source": [
    "#### read in and combine all of the wdpa files. ONLY NEEDS TO RUN ONCE\n",
    "\n",
    "## read in all the wdpa files\n",
    "wdpa0 = gpd.read_file(os.getcwd() + \"/data/WDPA/WDPA_May2021_Public_shp/WDPA_May2021_Public_shp_0/WDPA_May2021_Public_shp-polygons.shp\")\n",
    "wdpa1 = gpd.read_file(os.getcwd() + \"/data/WDPA/WDPA_May2021_Public_shp/WDPA_May2021_Public_shp_1/WDPA_May2021_Public_shp-polygons.shp\")\n",
    "wdpa2 = gpd.read_file(os.getcwd() + \"/data/WDPA/WDPA_May2021_Public_shp/WDPA_May2021_Public_shp_2/WDPA_May2021_Public_shp-polygons.shp\")\n",
    "wdpa3 = gpd.read_file(os.getcwd() + \"/data/WDPA/WDPA_May2021_Public_shp/WDPA_May2021_Public_shp_0/WDPA_May2021_Public_shp-points.shp\")\n",
    "wdpa4 = gpd.read_file(os.getcwd() + \"/data/WDPA/WDPA_May2021_Public_shp/WDPA_May2021_Public_shp_1/WDPA_May2021_Public_shp-points.shp\")\n",
    "wdpa5 = gpd.read_file(os.getcwd() + \"/data/WDPA/WDPA_May2021_Public_shp/WDPA_May2021_Public_shp_2/WDPA_May2021_Public_shp-points.shp\")\n",
    "\n",
    "#combine the poly and point dataframes\n",
    "wdpa_poly = gpd.GeoDataFrame(pd.concat([wdpa0, wdpa1, wdpa2]))\n",
    "wdpa_point = gpd.GeoDataFrame(pd.concat([wdpa3, wdpa4, wdpa5]))\n",
    "\n",
    "#save these out so we don't have to re-run again\n",
    "wdpa_poly.to_file(os.getcwd() + \"/data/WDPA/WDPA_May2021_Public_shp/WDPA_May2021_Public/WDPA_May2021_Public_shp-polygons.shp\", driver='ESRI Shapefile')\n",
    "wdpa_point.to_file(os.getcwd() + \"/data/WDPA/WDPA_May2021_Public_shp/WDPA_May2021_Public/WDPA_May2021_Public_shp-points.shp\", driver='ESRI Shapefile')\n",
    "\n",
    "wdpa_poly.crs = {'init': 'epsg:4326', 'no_defs': True}\n",
    "wdpa_point.crs = {'init': 'epsg:4326', 'no_defs': True}"
   ]
  },
  {
   "cell_type": "code",
   "execution_count": null,
   "metadata": {},
   "outputs": [],
   "source": [
    "#### If you don't need to run the above cell, here are the final poly and points to work qith\n",
    "wdpa_poly = gpd.read_file(os.getcwd() + \"/data/WDPA/WDPA_May2021_Public_shp/WDPA_May2021_Public/WDPA_May2021_Public_shp-polygons.shp\", driver='ESRI Shapefile')\n",
    "wdpa_point = gpd.read_file(os.getcwd() + \"/data/WDPA/WDPA_May2021_Public_shp/WDPA_May2021_Public/WDPA_May2021_Public_shp-points.shp\", driver='ESRI Shapefile')\n"
   ]
  },
  {
   "cell_type": "code",
   "execution_count": null,
   "metadata": {},
   "outputs": [],
   "source": [
    "#### Take in points and create buffers around them based on reported area\n",
    "\n",
    "## Add buffers to the point based on their area\n",
    "wdpa_point.crs = {'init': 'epsg:3763', 'no_defs': True}\n",
    "wdpa_point.to_crs({'init': 'epsg:3763'})\n",
    "\n",
    "## calculate the radius\n",
    "wdpa_point['radius'] = np.sqrt(wdpa_point.REP_AREA / np.pi )\n",
    "\n",
    "## remove entries with 0 reported area/radius\n",
    "wdpa_point.drop(wdpa_point[wdpa_point['radius'] <= 0].index, inplace = True)\n",
    "\n",
    "## create the buffers\n",
    "wdpa_point['geometry'] = wdpa_point.geometry.buffer(wdpa_point.radius)\n",
    "\n",
    "# convert projection back\n",
    "wdpa_point.crs = {'init': 'epsg:4326', 'no_defs': True}\n",
    "wdpa_point.to_crs({'init': 'epsg:4326'})"
   ]
  },
  {
   "cell_type": "code",
   "execution_count": null,
   "metadata": {},
   "outputs": [],
   "source": []
  }
 ],
 "metadata": {
  "kernelspec": {
   "display_name": "Python 3",
   "language": "python",
   "name": "python3"
  },
  "language_info": {
   "codemirror_mode": {
    "name": "ipython",
    "version": 3
   },
   "file_extension": ".py",
   "mimetype": "text/x-python",
   "name": "python",
   "nbconvert_exporter": "python",
   "pygments_lexer": "ipython3",
   "version": "3.7.3"
  }
 },
 "nbformat": 4,
 "nbformat_minor": 2
}
