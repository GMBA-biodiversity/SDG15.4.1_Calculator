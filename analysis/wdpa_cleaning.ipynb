{
 "cells": [
  {
   "cell_type": "code",
   "execution_count": 2,
   "metadata": {},
   "outputs": [],
   "source": [
    "## This file is meant to be run only once\n",
    "%matplotlib inline\n",
    "\n",
    "import matplotlib.pyplot as plt\n",
    "import pandas as pd\n",
    "import numpy as np\n",
    "import descartes\n",
    "from shapely.geometry import Polygon\n",
    "import geopandas as gpd\n",
    "import os.path\n",
    "from PIL import Image\n",
    "import rasterio\n",
    "import math\n",
    "\n",
    "# read in all of your files #TODO make sure these match your file path\n",
    "os.chdir(\"/Users/aminaly/Box Sync/mountain_biodiversity\")"
   ]
  },
  {
   "cell_type": "code",
   "execution_count": null,
   "metadata": {},
   "outputs": [],
   "source": [
    "#### read in and combine all of the wdpa files. ONLY NEEDS TO RUN ONCE\n",
    "\n",
    "## read in all the wdpa files\n",
    "wdpa0 = gpd.read_file(os.getcwd() + \"/data/WDPA/WDPA_May2021_Public_shp/WDPA_May2021_Public_shp_0/WDPA_May2021_Public_shp-polygons.shp\")\n",
    "wdpa1 = gpd.read_file(os.getcwd() + \"/data/WDPA/WDPA_May2021_Public_shp/WDPA_May2021_Public_shp_1/WDPA_May2021_Public_shp-polygons.shp\")\n",
    "wdpa2 = gpd.read_file(os.getcwd() + \"/data/WDPA/WDPA_May2021_Public_shp/WDPA_May2021_Public_shp_2/WDPA_May2021_Public_shp-polygons.shp\")\n",
    "wdpa3 = gpd.read_file(os.getcwd() + \"/data/WDPA/WDPA_May2021_Public_shp/WDPA_May2021_Public_shp_0/WDPA_May2021_Public_shp-points.shp\")\n",
    "wdpa4 = gpd.read_file(os.getcwd() + \"/data/WDPA/WDPA_May2021_Public_shp/WDPA_May2021_Public_shp_1/WDPA_May2021_Public_shp-points.shp\")\n",
    "wdpa5 = gpd.read_file(os.getcwd() + \"/data/WDPA/WDPA_May2021_Public_shp/WDPA_May2021_Public_shp_2/WDPA_May2021_Public_shp-points.shp\")\n",
    "\n",
    "#combine the poly and point dataframes\n",
    "wdpa_poly = gpd.GeoDataFrame(pd.concat([wdpa0, wdpa1, wdpa2]))\n",
    "wdpa_point = gpd.GeoDataFrame(pd.concat([wdpa3, wdpa4, wdpa5]))\n",
    "\n",
    "#save these out so we don't have to re-run again\n",
    "wdpa_poly.to_file(os.getcwd() + \"/data/WDPA/WDPA_May2021_Public_shp/WDPA_May2021_Public/WDPA_May2021_Public_shp-polygons.shp\", driver='ESRI Shapefile')\n",
    "wdpa_point.to_file(os.getcwd() + \"/data/WDPA/WDPA_May2021_Public_shp/WDPA_May2021_Public/WDPA_May2021_Public_shp-points.shp\", driver='ESRI Shapefile')\n",
    "\n",
    "wdpa_poly.crs = {'init': 'epsg:4326', 'no_defs': True}\n",
    "wdpa_point.crs = {'init': 'epsg:4326', 'no_defs': True}"
   ]
  },
  {
   "cell_type": "code",
   "execution_count": null,
   "metadata": {},
   "outputs": [],
   "source": [
    "#### If you don't need to run the above cell, here are the final poly and points to work qith\n",
    "wdpa_poly = gpd.read_file(os.getcwd() + \"/data/WDPA/WDPA_May2021_Public_shp/WDPA_May2021_Public/WDPA_May2021_Public_shp-polygons.shp\", driver='ESRI Shapefile')\n",
    "wdpa_point = gpd.read_file(os.getcwd() + \"/data/WDPA/WDPA_May2021_Public_shp/WDPA_May2021_Public/WDPA_May2021_Public_shp-points.shp\", driver='ESRI Shapefile')\n"
   ]
  },
  {
   "cell_type": "code",
   "execution_count": null,
   "metadata": {},
   "outputs": [],
   "source": [
    "#### Take in points and create buffers around them based on reported area\n",
    "\n",
    "## Add buffers to the point based on their area\n",
    "wdpa_point.crs = {'init': 'epsg:3763', 'no_defs': True}\n",
    "wdpa_point.to_crs({'init': 'epsg:3763'})\n",
    "\n",
    "## calculate the radius\n",
    "wdpa_point['radius'] = np.sqrt(wdpa_point.REP_AREA / np.pi )\n",
    "\n",
    "## remove entries with 0 reported area/radius\n",
    "wdpa_point.drop(wdpa_point[wdpa_point['radius'] <= 0].index, inplace = True)\n",
    "\n",
    "## create the buffers\n",
    "wdpa_point['geometry'] = wdpa_point.geometry.buffer(wdpa_point.radius)\n",
    "\n",
    "# convert projection back\n",
    "wdpa_point.crs = {'init': 'epsg:4326', 'no_defs': True}\n",
    "wdpa_point.to_crs({'init': 'epsg:4326'})"
   ]
  },
  {
   "cell_type": "code",
   "execution_count": 1,
   "metadata": {},
   "outputs": [
    {
     "ename": "NameError",
     "evalue": "name 'wdpa_poly' is not defined",
     "output_type": "error",
     "traceback": [
      "\u001b[0;31m---------------------------------------------------------------------------\u001b[0m",
      "\u001b[0;31mNameError\u001b[0m                                 Traceback (most recent call last)",
      "\u001b[0;32m<ipython-input-1-efad9a63b168>\u001b[0m in \u001b[0;36m<module>\u001b[0;34m\u001b[0m\n\u001b[1;32m      1\u001b[0m \u001b[0;31m#find the WDPAIDs that have points in the same protected area\u001b[0m\u001b[0;34m\u001b[0m\u001b[0;34m\u001b[0m\u001b[0;34m\u001b[0m\u001b[0m\n\u001b[0;32m----> 2\u001b[0;31m \u001b[0mpoly_in_point\u001b[0m \u001b[0;34m=\u001b[0m \u001b[0mwdpa_poly\u001b[0m\u001b[0;34m[\u001b[0m\u001b[0mwdpa_poly\u001b[0m\u001b[0;34m[\u001b[0m\u001b[0;34m'WDPA_PID'\u001b[0m\u001b[0;34m]\u001b[0m\u001b[0;34m.\u001b[0m\u001b[0misin\u001b[0m\u001b[0;34m(\u001b[0m\u001b[0mwdpa_point\u001b[0m\u001b[0;34m.\u001b[0m\u001b[0mWDPA_PID\u001b[0m\u001b[0;34m)\u001b[0m\u001b[0;34m]\u001b[0m\u001b[0;34m\u001b[0m\u001b[0;34m\u001b[0m\u001b[0m\n\u001b[0m\u001b[1;32m      3\u001b[0m \u001b[0mpoint_in_poly\u001b[0m \u001b[0;34m=\u001b[0m \u001b[0mwdpa_point\u001b[0m\u001b[0;34m[\u001b[0m\u001b[0mwdpa_point\u001b[0m\u001b[0;34m[\u001b[0m\u001b[0;34m'WDPA_PID'\u001b[0m\u001b[0;34m]\u001b[0m\u001b[0;34m.\u001b[0m\u001b[0misin\u001b[0m\u001b[0;34m(\u001b[0m\u001b[0mpoly_in_point\u001b[0m\u001b[0;34m.\u001b[0m\u001b[0mWDPA_PID\u001b[0m\u001b[0;34m)\u001b[0m\u001b[0;34m]\u001b[0m\u001b[0;34m\u001b[0m\u001b[0;34m\u001b[0m\u001b[0m\n\u001b[1;32m      4\u001b[0m \u001b[0;34m\u001b[0m\u001b[0m\n\u001b[1;32m      5\u001b[0m \u001b[0;31m#find those that have no overlaps (no need to do any dissolving)\u001b[0m\u001b[0;34m\u001b[0m\u001b[0;34m\u001b[0m\u001b[0;34m\u001b[0m\u001b[0m\n",
      "\u001b[0;31mNameError\u001b[0m: name 'wdpa_poly' is not defined"
     ]
    }
   ],
   "source": [
    "#find the WDPAIDs that have points in the same protected area\n",
    "poly_in_point = wdpa_poly[wdpa_poly['WDPA_PID'].isin(wdpa_point.WDPA_PID)]\n",
    "point_in_poly = wdpa_point[wdpa_point['WDPA_PID'].isin(poly_in_point.WDPA_PID)]\n",
    "\n",
    "#find those that have no overlaps (no need to do any dissolving)\n",
    "poly_not_point = wdpa_poly[~wdpa_poly['WDPA_PID'].isin(wdpa_point.WDPA_PID)]\n",
    "point_not_poly = wdpa_point[~wdpa_point['WDPA_PID'].isin(poly_in_point.WDPA_PID)]\n",
    "\n",
    "#get two shapefiles. One with all the overlaps, and one without\n",
    "overlaps = gpd.GeoDataFrame(pd.concat([poly_in_point, point_in_poly]))\n",
    "non_overlaps = gpd.GeoDataFrame(pd.concat([poly_not_point, point_not_poly]))"
   ]
  },
  {
   "cell_type": "code",
   "execution_count": null,
   "metadata": {},
   "outputs": [],
   "source": []
  },
  {
   "cell_type": "code",
   "execution_count": null,
   "metadata": {},
   "outputs": [],
   "source": [
    "## dissolve the overlaps \n",
    "dissolved_overlaps = overlaps.dissolve(by='WDPAID', aggfunc = 'sum')\n",
    "\n",
    "## combine non-overlaps with dissolved overlaps\n",
    "wdpa_final = gpd.GeoDataFrame(pd.concat([dissolved_overlaps, non_overlaps]))\n",
    "\n",
    "wdpa_final.crs = {'init': 'epsg:4326', 'no_defs': True}\n",
    "wdpa_final.to_file(os.getcwd() + \"/data/WDPA/WDPA_May2021_Public_shp/WDPA_May2021_Public/WDPA_May2021_Public_flattened.shp\", driver='ESRI Shapefile')"
   ]
  }
 ],
 "metadata": {
  "kernelspec": {
   "display_name": "Python 3",
   "language": "python",
   "name": "python3"
  },
  "language_info": {
   "codemirror_mode": {
    "name": "ipython",
    "version": 3
   },
   "file_extension": ".py",
   "mimetype": "text/x-python",
   "name": "python",
   "nbconvert_exporter": "python",
   "pygments_lexer": "ipython3",
   "version": "3.7.3"
  }
 },
 "nbformat": 4,
 "nbformat_minor": 2
}
