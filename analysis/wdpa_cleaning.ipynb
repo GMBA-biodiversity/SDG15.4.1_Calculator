{
 "cells": [
  {
   "cell_type": "code",
   "execution_count": 1,
   "metadata": {},
   "outputs": [],
   "source": [
    "## This file is meant to be run only once\n",
    "%matplotlib inline\n",
    "\n",
    "import matplotlib.pyplot as plt\n",
    "import pandas as pd\n",
    "import numpy as np\n",
    "from shapely.geometry import Polygon\n",
    "import geopandas as gpd\n",
    "import os.path\n",
    "#from PIL import Image\n",
    "import rasterio\n",
    "import math\n",
    "\n",
    "# read in all of your files #TODO make sure these match your file path\n",
    "#os.chdir(\"/oak/stanford/groups/omramom/group_members/aminaly/mountain_biodiversity\")\n",
    "os.chdir(\"/Users/aminaly/Box Sync/mountain_biodiversity\")"
   ]
  },
  {
   "cell_type": "code",
   "execution_count": 2,
   "metadata": {},
   "outputs": [],
   "source": [
    "#### read in and combine all of the wdpa files. ONLY NEEDS TO RUN ONCE\n",
    "\n",
    "## read in all the wdpa files\n",
    "wdpa0 = gpd.read_file(os.getcwd() + \"/data/WDPA/WDPA_Jun2021_Public_shp/WDPA_Jun2021_Public_shp_0/WDPA_Jun2021_Public_shp-polygons.shp\")\n",
    "wdpa1 = gpd.read_file(os.getcwd() + \"/data/WDPA/WDPA_Jun2021_Public_shp/WDPA_Jun2021_Public_shp_1/WDPA_Jun2021_Public_shp-polygons.shp\")\n",
    "wdpa2 = gpd.read_file(os.getcwd() + \"/data/WDPA/WDPA_Jun2021_Public_shp/WDPA_Jun2021_Public_shp_2/WDPA_Jun2021_Public_shp-polygons.shp\")\n",
    "wdpa3 = gpd.read_file(os.getcwd() + \"/data/WDPA/WDPA_Jun2021_Public_shp/WDPA_Jun2021_Public_shp_0/WDPA_Jun2021_Public_shp-points.shp\")\n",
    "wdpa4 = gpd.read_file(os.getcwd() + \"/data/WDPA/WDPA_Jun2021_Public_shp/WDPA_Jun2021_Public_shp_1/WDPA_Jun2021_Public_shp-points.shp\")\n",
    "wdpa5 = gpd.read_file(os.getcwd() + \"/data/WDPA/WDPA_Jun2021_Public_shp/WDPA_Jun2021_Public_shp_2/WDPA_Jun2021_Public_shp-points.shp\")\n",
    "\n",
    "#combine the poly and point dataframes\n",
    "wdpa_poly = gpd.GeoDataFrame(pd.concat([wdpa0, wdpa1, wdpa2]))\n",
    "wdpa_point = gpd.GeoDataFrame(pd.concat([wdpa3, wdpa4, wdpa5]))\n",
    "\n",
    "wdpa_poly.crs = {'init': 'epsg:4326', 'no_defs': True}\n",
    "wdpa_point.crs = {'init': 'epsg:4326', 'no_defs': True}\n",
    "\n",
    "## filter out marine locations \n",
    "wdpa_poly = wdpa_poly[~wdpa_poly['DESIG'].str.contains(\"Marine\")] \n",
    "wdpa_point = wdpa_point[~wdpa_point['DESIG'].str.contains(\"Marine\")]\n",
    "\n",
    "#save these out so we don't have to re-run again\n",
    "#wdpa_poly.to_file(os.getcwd() + \"/data/WDPA/WDPA_Jun2021_Public_shp/WDPA_Jun2021_Public/WDPA_Jun2021_Public_shp-polygons.shp\", driver='ESRI Shapefile')\n",
    "#wdpa_point.to_file(os.getcwd() + \"/data/WDPA/WDPA_Jun2021_Public_shp/WDPA_Jun2021_Public/WDPA_Jun2021_Public_shp-points.shp\", driver='ESRI Shapefile')"
   ]
  },
  {
   "cell_type": "code",
   "execution_count": null,
   "metadata": {},
   "outputs": [],
   "source": [
    "#### If you don't need to run the above cell, here are the final poly and points to work qith\n",
    "wdpa_poly = gpd.read_file(os.getcwd() + \"/data/WDPA/WDPA_Jun2021_Public_shp/WDPA_Jun2021_Public/WDPA_Jun2021_Public_shp-polygons.shp\", driver='ESRI Shapefile')\n",
    "wdpa_point = gpd.read_file(os.getcwd() + \"/data/WDPA/WDPA_Jun2021_Public_shp/WDPA_Jun2021_Public/WDPA_Jun2021_Public_shp-points.shp\", driver='ESRI Shapefile')\n"
   ]
  },
  {
   "cell_type": "code",
   "execution_count": null,
   "metadata": {},
   "outputs": [],
   "source": [
    "#### Take in points and create buffers around them based on reported area\n",
    "\n",
    "## Add buffers to the point based on their area\n",
    "wdpa_point.crs = {'init': 'epsg:3763', 'no_defs': True}\n",
    "wdpa_point.to_crs({'init': 'epsg:3763'})\n",
    "\n",
    "## calculate the radius\n",
    "wdpa_point['radius'] = np.sqrt(wdpa_point.REP_AREA / np.pi) / 1000\n",
    "\n",
    "## remove entries with 0 reported area/radius\n",
    "wdpa_point.drop(wdpa_point[wdpa_point['radius'] <= 0].index, inplace = True)\n",
    "\n",
    "## create the buffers\n",
    "wdpa_point['geometry'] = wdpa_point.geometry.buffer(wdpa_point.radius)\n",
    "\n",
    "# convert projection back\n",
    "wdpa_point.crs = {'init': 'epsg:4326', 'no_defs': True}\n",
    "wdpa_point.to_crs({'init': 'epsg:4326'})"
   ]
  },
  {
   "cell_type": "code",
   "execution_count": null,
   "metadata": {},
   "outputs": [],
   "source": []
  },
  {
   "cell_type": "code",
   "execution_count": null,
   "metadata": {},
   "outputs": [],
   "source": [
    "#### Identify all the overlaps, dissolve, and combine with non-overlaps\n",
    "overlaps_poly = wdpa_point.intersects(wdpa_poly)\n",
    "\n",
    "# subset poly and point based on the identified overlaps \n",
    "#overlaps_poly = overlaps_poly.reset_index().drop(columns = \"index\")\n",
    "overlaps_poly_sh = wdpa_poly[np.array(overlaps_poly)]\n",
    "nonoverlaps_poly_sh = wdpa_poly[~overlaps_poly]\n",
    "\n",
    "# combine the overlapping polygons with the points \n",
    "overlap_poly_point = gpd.GeoDataFrame(pd.concat([overlaps_poly_sh, wdpa_point]))\n",
    "\n",
    "#dissolve the overlapping polygons with all the points\n",
    "dissolved_overlaps = overlap_poly_point.dissolve(by='WDPAID')\n",
    "\n",
    "# concat new dissolved layer, with the nonoverlapping polygons\n",
    "wdpa_final = gpd.GeoDataFrame(pd.concat([nonoverlaps_poly_sh, dissolved_overlaps]))\n",
    "\n",
    "#make sure the CRS is correct\n",
    "wdpa_final.crs = {'init': 'epsg:4326', 'no_defs': True}\n",
    "wdpa_final.to_crs({'init': 'epsg:4326'})\n",
    "\n",
    "#save out\n",
    "#wdpa_final.to_file(os.getcwd() + \"/data/WDPA/WDPA_Jun2021_Public_shp/WDPA_Jun2021_Public/WDPA_Jun2021_Public_flattened.shp\", driver='ESRI Shapefile')\n"
   ]
  },
  {
   "cell_type": "code",
   "execution_count": 3,
   "metadata": {},
   "outputs": [
    {
     "name": "stderr",
     "output_type": "stream",
     "text": [
      "//anaconda3/lib/python3.7/site-packages/ipykernel_launcher.py:22: FutureWarning: Sorting because non-concatenation axis is not aligned. A future version\n",
      "of pandas will change to not sort by default.\n",
      "\n",
      "To accept the future behavior, pass 'sort=False'.\n",
      "\n",
      "To retain the current behavior and silence the warning, pass 'sort=True'.\n",
      "\n"
     ]
    }
   ],
   "source": [
    "## Add buffers to the point based on their area\n",
    "wdpa_point.crs = {'init': 'epsg:3763', 'no_defs': True}\n",
    "wdpa_point.to_crs({'init': 'epsg:3763'})\n",
    "\n",
    "## calculate the radius\n",
    "wdpa_point['radius'] = np.sqrt(wdpa_point.REP_AREA / np.pi) / 1000\n",
    "\n",
    "## remove entries with 0 reported area/radius\n",
    "wdpa_point.drop(wdpa_point[wdpa_point['radius'] <= 0].index, inplace = True)\n",
    "\n",
    "## create the buffers\n",
    "wdpa_point['geometry'] = wdpa_point.geometry.buffer(wdpa_point.radius)\n",
    "\n",
    "# convert projection back\n",
    "wdpa_point.crs = {'init': 'epsg:4326', 'no_defs': True}\n",
    "wdpa_point.to_crs({'init': 'epsg:4326'})\n",
    "\n",
    "wrld_cntries = ['AZE', 'LVA', 'CHE', 'DEU', 'BDI', 'GHA', 'KOR', 'NIC', 'SAU', 'ESP']\n",
    "wdpa_poly_c = wdpa_poly[wdpa_poly['ISO3'].isin(wrld_cntries)]\n",
    "wdpa_point_c = wdpa_point[wdpa_point['ISO3'].isin(wrld_cntries)]\n",
    "\n",
    "overlap_poly_point = gpd.GeoDataFrame(pd.concat([wdpa_poly_c, wdpa_point_c]))\n",
    "dissolved = overlap_poly_point.dissolve(by='WDPAID')\n",
    "\n",
    "dissolved.crs = {'init': 'epsg:4326', 'no_defs': True}\n",
    "dissolved.to_crs({'init': 'epsg:4326'})\n",
    "\n",
    "dissolved.to_file(os.getcwd() + \"/data/WDPA/WDPA_Jun2021_Public_shp/WDPA_Jun2021_Public/clipped_WDPA_Jun2021_Public_flattened.shp\", driver='ESRI Shapefile')"
   ]
  },
  {
   "cell_type": "code",
   "execution_count": null,
   "metadata": {},
   "outputs": [],
   "source": []
  },
  {
   "cell_type": "code",
   "execution_count": null,
   "metadata": {},
   "outputs": [],
   "source": []
  }
 ],
 "metadata": {
  "kernelspec": {
   "display_name": "Python 3",
   "language": "python",
   "name": "python3"
  },
  "language_info": {
   "codemirror_mode": {
    "name": "ipython",
    "version": 3
   },
   "file_extension": ".py",
   "mimetype": "text/x-python",
   "name": "python",
   "nbconvert_exporter": "python",
   "pygments_lexer": "ipython3",
   "version": "3.7.3"
  }
 },
 "nbformat": 4,
 "nbformat_minor": 2
}
