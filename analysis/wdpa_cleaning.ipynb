{
 "cells": [
  {
   "cell_type": "code",
   "execution_count": 6,
   "metadata": {},
   "outputs": [],
   "source": [
    "## This file is meant to be run only once\n",
    "%matplotlib inline\n",
    "\n",
    "import matplotlib.pyplot as plt\n",
    "import pandas as pd\n",
    "import numpy as np\n",
    "from shapely.geometry import Polygon\n",
    "import geopandas as gpd\n",
    "import os.path\n",
    "#from PIL import Image\n",
    "import rasterio\n",
    "import math\n",
    "\n",
    "# read in all of your files #TODO make sure these match your file path\n",
    "#os.chdir(\"/oak/stanford/groups/omramom/group_members/aminaly/mountain_biodiversity\")\n",
    "os.chdir(\"/Users/aminaly/Box Sync/mountain_biodiversity\")"
   ]
  },
  {
   "cell_type": "code",
   "execution_count": 20,
   "metadata": {},
   "outputs": [],
   "source": [
    "#### read in and combine all of the wdpa files. ONLY NEEDS TO RUN ONCE\n",
    "\n",
    "## read in all the wdpa files\n",
    "wdpa0 = gpd.read_file(os.getcwd() + \"/data/WDPA/WDPA_Jun2021_Public_shp/WDPA_Jun2021_Public_shp_0/WDPA_Jun2021_Public_shp-polygons.shp\")\n",
    "wdpa1 = gpd.read_file(os.getcwd() + \"/data/WDPA/WDPA_Jun2021_Public_shp/WDPA_Jun2021_Public_shp_1/WDPA_Jun2021_Public_shp-polygons.shp\")\n",
    "wdpa2 = gpd.read_file(os.getcwd() + \"/data/WDPA/WDPA_Jun2021_Public_shp/WDPA_Jun2021_Public_shp_2/WDPA_Jun2021_Public_shp-polygons.shp\")\n",
    "wdpa3 = gpd.read_file(os.getcwd() + \"/data/WDPA/WDPA_Jun2021_Public_shp/WDPA_Jun2021_Public_shp_0/WDPA_Jun2021_Public_shp-points.shp\")\n",
    "wdpa4 = gpd.read_file(os.getcwd() + \"/data/WDPA/WDPA_Jun2021_Public_shp/WDPA_Jun2021_Public_shp_1/WDPA_Jun2021_Public_shp-points.shp\")\n",
    "wdpa5 = gpd.read_file(os.getcwd() + \"/data/WDPA/WDPA_Jun2021_Public_shp/WDPA_Jun2021_Public_shp_2/WDPA_Jun2021_Public_shp-points.shp\")\n",
    "\n",
    "#combine the poly and point dataframes\n",
    "wdpa_poly = gpd.GeoDataFrame(pd.concat([wdpa0, wdpa1, wdpa2]))\n",
    "wdpa_point = gpd.GeoDataFrame(pd.concat([wdpa3, wdpa4, wdpa5]))\n",
    "\n",
    "wdpa_poly.crs = {'init': 'epsg:4326', 'no_defs': True}\n",
    "wdpa_point.crs = {'init': 'epsg:4326', 'no_defs': True}"
   ]
  },
  {
   "cell_type": "code",
   "execution_count": 22,
   "metadata": {},
   "outputs": [],
   "source": [
    "#### This section does all the filtering for sites that won't be considered and saves out the files\n",
    "\n",
    "## filter out marine locations \n",
    "wdpa_poly = wdpa_poly[wdpa_poly['MARINE'] != \"2\"]\n",
    "wdpa_point = wdpa_point[wdpa_point['MARINE'] != \"2\"]\n",
    "\n",
    "## filter out UNESCO sites\n",
    "wdpa_poly = wdpa_poly[wdpa_poly['INT_CRIT'] == \"Not Applicable\"]\n",
    "wdpa_point = wdpa_point[wdpa_point['INT_CRIT'] == \"Not Applicable\"]\n",
    "\n",
    "## filter out proposed/not reported sites \n",
    "wdpa_poly = wdpa_poly[wdpa_poly['STATUS'] != 'Proposed']\n",
    "wdpa_point = wdpa_point[wdpa_point['STATUS'] != 'Proposed']\n",
    "wdpa_poly = wdpa_poly[wdpa_poly['STATUS'] != 'Not Reported']\n",
    "wdpa_point = wdpa_point[wdpa_point['STATUS'] != 'Not Reported']\n",
    "                        \n",
    "## remove entries with 0 reported area/radius\n",
    "wdpa_point.drop(wdpa_point[wdpa_point['REP_AREA'] <= 0].index)\n",
    "                        \n",
    "#save these out so we don't have to re-run again\n",
    "wdpa_poly.to_file(os.getcwd() + \"/data/WDPA/WDPA_Jun2021_Public_shp/WDPA_Jun2021_Public/WDPA_Jun2021_Public_shp-polygons.shp\", driver='ESRI Shapefile')\n",
    "wdpa_point.to_file(os.getcwd() + \"/data/WDPA/WDPA_Jun2021_Public_shp/WDPA_Jun2021_Public/WDPA_Jun2021_Public_shp-points.shp\", driver='ESRI Shapefile')"
   ]
  },
  {
   "cell_type": "code",
   "execution_count": 23,
   "metadata": {},
   "outputs": [],
   "source": [
    "#### Take in points and create buffers around them based on reported area\n",
    "\n",
    "## Add buffers to the point based on their area\n",
    "wdpa_point.crs = {'init': 'epsg:3763', 'no_defs': True}\n",
    "wdpa_point.to_crs({'init': 'epsg:3763'})\n",
    "\n",
    "## calculate the radius\n",
    "wdpa_point['radius'] = np.sqrt(wdpa_point.REP_AREA / np.pi) / 1000\n",
    "\n",
    "## create the buffers\n",
    "wdpa_point['geometry'] = wdpa_point.geometry.buffer(wdpa_point.radius)\n",
    "\n",
    "# convert projection back\n",
    "wdpa_point.crs = {'init': 'epsg:4326', 'no_defs': True}\n",
    "wdpa_point.to_crs({'init': 'epsg:4326'})\n",
    "\n",
    "#save out the point file with the buffers\n",
    "wdpa_point.to_file(os.getcwd() + \"/data/WDPA/WDPA_Jun2021_Public_shp/WDPA_Jun2021_Public/WDPA_Jun2021_Public_shp-points.shp\", driver='ESRI Shapefile')"
   ]
  },
  {
   "cell_type": "code",
   "execution_count": null,
   "metadata": {},
   "outputs": [],
   "source": [
    "\n",
    "#### If you don't need to run the above cells, here are the final poly and points to work with\n",
    "wdpa_poly = gpd.read_file(os.getcwd() + \"/data/WDPA/WDPA_Jun2021_Public_shp/WDPA_Jun2021_Public/WDPA_Jun2021_Public_shp-polygons.shp\", driver='ESRI Shapefile')\n",
    "wdpa_point = gpd.read_file(os.getcwd() + \"/data/WDPA/WDPA_Jun2021_Public_shp/WDPA_Jun2021_Public/WDPA_Jun2021_Public_shp-points.shp\", driver='ESRI Shapefile')\n"
   ]
  },
  {
   "cell_type": "code",
   "execution_count": null,
   "metadata": {},
   "outputs": [],
   "source": [
    "#### Identify all the overlaps, dissolve, and combine with non-overlaps\n",
    "overlaps_poly = wdpa_point.intersects(wdpa_poly)\n",
    "\n",
    "# subset poly and point based on the identified overlaps \n",
    "#overlaps_poly = overlaps_poly.reset_index().drop(columns = \"index\")\n",
    "overlaps_poly_sh = wdpa_poly[np.array(overlaps_poly)]\n",
    "nonoverlaps_poly_sh = wdpa_poly[~overlaps_poly]\n",
    "\n",
    "# combine the overlapping polygons with the points \n",
    "overlap_poly_point = gpd.GeoDataFrame(pd.concat([overlaps_poly_sh, wdpa_point]))\n",
    "\n",
    "#dissolve the overlapping polygons with all the points\n",
    "dissolved_overlaps = overlap_poly_point.dissolve(by='WDPAID')\n",
    "\n",
    "# concat new dissolved layer, with the nonoverlapping polygons\n",
    "wdpa_final = gpd.GeoDataFrame(pd.concat([nonoverlaps_poly_sh, dissolved_overlaps]))\n",
    "\n",
    "#make sure the CRS is correct\n",
    "wdpa_final.crs = {'init': 'epsg:4326', 'no_defs': True}\n",
    "wdpa_final.to_crs({'init': 'epsg:4326'})\n",
    "\n",
    "#save out\n",
    "#wdpa_final.to_file(os.getcwd() + \"/data/WDPA/WDPA_Jun2021_Public_shp/WDPA_Jun2021_Public/WDPA_Jun2021_Public_flattened.shp\", driver='ESRI Shapefile')"
   ]
  },
  {
   "cell_type": "code",
   "execution_count": 28,
   "metadata": {},
   "outputs": [
    {
     "name": "stderr",
     "output_type": "stream",
     "text": [
      "//anaconda3/lib/python3.7/site-packages/ipykernel_launcher.py:2: FutureWarning: Sorting because non-concatenation axis is not aligned. A future version\n",
      "of pandas will change to not sort by default.\n",
      "\n",
      "To accept the future behavior, pass 'sort=False'.\n",
      "\n",
      "To retain the current behavior and silence the warning, pass 'sort=True'.\n",
      "\n",
      "  \n"
     ]
    }
   ],
   "source": [
    "# combine the overlapping polygons with the points \n",
    "overlap_poly_point = gpd.GeoDataFrame(pd.concat([wdpa_poly, wdpa_point]))\n",
    "\n",
    "#dissolve the overlapping polygons with all the points\n",
    "wdpa_final = overlap_poly_point.dissolve(by='WDPAID')"
   ]
  },
  {
   "cell_type": "code",
   "execution_count": 29,
   "metadata": {},
   "outputs": [],
   "source": [
    "wdpa_final.to_file(os.getcwd() + \"/data/WDPA/WDPA_Jun2021_Public_shp/WDPA_Jun2021_Public/WDPA_Jun2021_Public_flattened.shp\", driver='ESRI Shapefile')"
   ]
  }
 ],
 "metadata": {
  "kernelspec": {
   "display_name": "Python 3",
   "language": "python",
   "name": "python3"
  },
  "language_info": {
   "codemirror_mode": {
    "name": "ipython",
    "version": 3
   },
   "file_extension": ".py",
   "mimetype": "text/x-python",
   "name": "python",
   "nbconvert_exporter": "python",
   "pygments_lexer": "ipython3",
   "version": "3.7.3"
  }
 },
 "nbformat": 4,
 "nbformat_minor": 2
}
