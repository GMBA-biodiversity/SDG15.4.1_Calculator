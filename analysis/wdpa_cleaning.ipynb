{
 "cells": [
  {
   "cell_type": "code",
   "execution_count": 2,
   "metadata": {},
   "outputs": [],
   "source": [
    "## This file is meant to be run only once\n",
    "%matplotlib inline\n",
    "\n",
    "import matplotlib.pyplot as plt\n",
    "import pandas as pd\n",
    "import numpy as np\n",
    "from shapely.geometry import Polygon\n",
    "import geopandas as gpd\n",
    "import os.path\n",
    "#from PIL import Image\n",
    "import rasterio\n",
    "import math\n",
    "\n",
    "# read in all of your files #TODO make sure these match your file path\n",
    "#os.chdir(\"/oak/stanford/groups/omramom/group_members/aminaly/mountain_biodiversity\")\n",
    "os.chdir(\"/Users/aminaly/Box Sync/mountain_biodiversity\")"
   ]
  },
  {
   "cell_type": "code",
   "execution_count": 2,
   "metadata": {},
   "outputs": [],
   "source": [
    "#### read in and combine all of the wdpa files. ONLY NEEDS TO RUN ONCE\n",
    "\n",
    "## read in all the wdpa files\n",
    "wdpa0 = gpd.read_file(os.getcwd() + \"/data/WDPA/WDPA_Jun2021_Public_shp/WDPA_Jun2021_Public_shp_0/WDPA_Jun2021_Public_shp-polygons.shp\")\n",
    "wdpa1 = gpd.read_file(os.getcwd() + \"/data/WDPA/WDPA_Jun2021_Public_shp/WDPA_Jun2021_Public_shp_1/WDPA_Jun2021_Public_shp-polygons.shp\")\n",
    "wdpa2 = gpd.read_file(os.getcwd() + \"/data/WDPA/WDPA_Jun2021_Public_shp/WDPA_Jun2021_Public_shp_2/WDPA_Jun2021_Public_shp-polygons.shp\")\n",
    "wdpa3 = gpd.read_file(os.getcwd() + \"/data/WDPA/WDPA_Jun2021_Public_shp/WDPA_Jun2021_Public_shp_0/WDPA_Jun2021_Public_shp-points.shp\")\n",
    "wdpa4 = gpd.read_file(os.getcwd() + \"/data/WDPA/WDPA_Jun2021_Public_shp/WDPA_Jun2021_Public_shp_1/WDPA_Jun2021_Public_shp-points.shp\")\n",
    "wdpa5 = gpd.read_file(os.getcwd() + \"/data/WDPA/WDPA_Jun2021_Public_shp/WDPA_Jun2021_Public_shp_2/WDPA_Jun2021_Public_shp-points.shp\")\n",
    "\n",
    "#combine the poly and point dataframes\n",
    "wdpa_poly = gpd.GeoDataFrame(pd.concat([wdpa0, wdpa1, wdpa2]))\n",
    "wdpa_point = gpd.GeoDataFrame(pd.concat([wdpa3, wdpa4, wdpa5]))\n",
    "\n",
    "wdpa_poly.crs = {'init': 'epsg:4326', 'no_defs': True}\n",
    "wdpa_point.crs = {'init': 'epsg:4326', 'no_defs': True}\n",
    "\n",
    "## filter out marine locations \n",
    "wdpa_poly = wdpa_poly[wdpa_poly['MARINE'] != \"2\"]\n",
    "wdpa_point = wdpa_point[wdpa_point['MARINE'] != \"2\"]\n",
    "\n",
    "#save these out so we don't have to re-run again\n",
    "wdpa_poly.to_file(os.getcwd() + \"/data/WDPA/WDPA_Jun2021_Public_shp/WDPA_Jun2021_Public/WDPA_Jun2021_Public_shp-polygons.shp\", driver='ESRI Shapefile')\n",
    "wdpa_point.to_file(os.getcwd() + \"/data/WDPA/WDPA_Jun2021_Public_shp/WDPA_Jun2021_Public/WDPA_Jun2021_Public_shp-points.shp\", driver='ESRI Shapefile')"
   ]
  },
  {
   "cell_type": "code",
   "execution_count": null,
   "metadata": {},
   "outputs": [],
   "source": [
    "#### If you don't need to run the above cell, here are the final poly and points to work qith\n",
    "wdpa_poly = gpd.read_file(os.getcwd() + \"/data/WDPA/WDPA_Jun2021_Public_shp/WDPA_Jun2021_Public/WDPA_Jun2021_Public_shp-polygons.shp\", driver='ESRI Shapefile')\n",
    "wdpa_point = gpd.read_file(os.getcwd() + \"/data/WDPA/WDPA_Jun2021_Public_shp/WDPA_Jun2021_Public/WDPA_Jun2021_Public_shp-points.shp\", driver='ESRI Shapefile')\n"
   ]
  },
  {
   "cell_type": "code",
   "execution_count": null,
   "metadata": {},
   "outputs": [],
   "source": [
    "#### Take in points and create buffers around them based on reported area\n",
    "\n",
    "## Add buffers to the point based on their area\n",
    "wdpa_point.crs = {'init': 'epsg:3763', 'no_defs': True}\n",
    "wdpa_point.to_crs({'init': 'epsg:3763'})\n",
    "\n",
    "## calculate the radius\n",
    "wdpa_point['radius'] = np.sqrt(wdpa_point.REP_AREA / np.pi) / 1000\n",
    "\n",
    "## remove entries with 0 reported area/radius\n",
    "wdpa_point.drop(wdpa_point[wdpa_point['radius'] <= 0].index)\n",
    "\n",
    "## create the buffers\n",
    "wdpa_point['geometry'] = wdpa_point.geometry.buffer(wdpa_point.radius)\n",
    "\n",
    "# convert projection back\n",
    "wdpa_point.crs = {'init': 'epsg:4326', 'no_defs': True}\n",
    "wdpa_point.to_crs({'init': 'epsg:4326'})"
   ]
  },
  {
   "cell_type": "code",
   "execution_count": null,
   "metadata": {},
   "outputs": [],
   "source": [
    "#### Identify all the overlaps, dissolve, and combine with non-overlaps\n",
    "overlaps_poly = wdpa_point.intersects(wdpa_poly)\n",
    "\n",
    "# subset poly and point based on the identified overlaps \n",
    "#overlaps_poly = overlaps_poly.reset_index().drop(columns = \"index\")\n",
    "overlaps_poly_sh = wdpa_poly[np.array(overlaps_poly)]\n",
    "nonoverlaps_poly_sh = wdpa_poly[~overlaps_poly]\n",
    "\n",
    "# combine the overlapping polygons with the points \n",
    "overlap_poly_point = gpd.GeoDataFrame(pd.concat([overlaps_poly_sh, wdpa_point]))\n",
    "\n",
    "#dissolve the overlapping polygons with all the points\n",
    "dissolved_overlaps = overlap_poly_point.dissolve(by='WDPAID')\n",
    "\n",
    "# concat new dissolved layer, with the nonoverlapping polygons\n",
    "wdpa_final = gpd.GeoDataFrame(pd.concat([nonoverlaps_poly_sh, dissolved_overlaps]))\n",
    "\n",
    "#make sure the CRS is correct\n",
    "wdpa_final.crs = {'init': 'epsg:4326', 'no_defs': True}\n",
    "wdpa_final.to_crs({'init': 'epsg:4326'})\n",
    "\n",
    "#save out\n",
    "#wdpa_final.to_file(os.getcwd() + \"/data/WDPA/WDPA_Jun2021_Public_shp/WDPA_Jun2021_Public/WDPA_Jun2021_Public_flattened.shp\", driver='ESRI Shapefile')\n"
   ]
  },
  {
   "cell_type": "code",
   "execution_count": 71,
   "metadata": {},
   "outputs": [
    {
     "name": "stderr",
     "output_type": "stream",
     "text": [
      "//anaconda3/lib/python3.7/site-packages/ipykernel_launcher.py:29: FutureWarning: Sorting because non-concatenation axis is not aligned. A future version\n",
      "of pandas will change to not sort by default.\n",
      "\n",
      "To accept the future behavior, pass 'sort=False'.\n",
      "\n",
      "To retain the current behavior and silence the warning, pass 'sort=True'.\n",
      "\n"
     ]
    }
   ],
   "source": [
    "# THIS WILL BE DELETED BUT FOR NOW here is a clipped version so we spend less time \n",
    "wdpa_point = gpd.GeoDataFrame(pd.concat([wdpa3, wdpa4, wdpa5]))\n",
    "wdpa_point.crs = {'init': 'epsg:4326', 'no_defs': True}\n",
    "wdpa_point.to_file(os.getcwd() + \"/data/WDPA/WDPA_Jun2021_Public_shp/WDPA_Jun2021_Public/WDPA_Jun2021_Public_shp-points.shp\", driver='ESRI Shapefile')\n",
    "\n",
    "## Add buffers to the point based on their area\n",
    "#wdpa_point.crs = {'init': 'epsg:3763', 'no_defs': True}\n",
    "#wdpa_point.to_crs({'init': 'epsg:3763'})\n",
    "\n",
    "## calculate the radius\n",
    "wdpa_point['radius'] = np.sqrt(wdpa_point.REP_AREA / np.pi) / 1000\n",
    "\n",
    "## remove entries with 0 reported area/radius\n",
    "wdpa_point = wdpa_point[wdpa_point['radius'] > 0]\n",
    "\n",
    "## create the buffers\n",
    "wdpa_point['geometry'] = wdpa_point.geometry.buffer(wdpa_point.radius)\n",
    "\n",
    "# convert projection back\n",
    "#wdpa_point.crs = {'init': 'epsg:4326', 'no_defs': True}\n",
    "#wdpa_point.to_crs({'init': 'epsg:4326'})\n",
    "\n",
    "wrld_cntries = ['AZE', 'LVA', 'CHE', 'DEU', 'BDI', 'GHA', 'KOR', 'NIC', 'SAU', 'ESP']\n",
    "wdpa_poly_c = wdpa_poly[wdpa_poly['ISO3'].isin(wrld_cntries)]\n",
    "wdpa_point_c = wdpa_point[wdpa_point['ISO3'].isin(wrld_cntries)]\n",
    "\n",
    "# combine the overlapping polygons with the points \n",
    "overlap_poly_point = gpd.GeoDataFrame(pd.concat([wdpa_poly_c, wdpa_point_c]))\n",
    "\n",
    "#dissolve the overlapping polygons with all the points\n",
    "wdpa_final = overlap_poly_point.dissolve(by='WDPAID')\n",
    "\n",
    "#make sure the CRS is correct\n",
    "wdpa_final.crs = {'init': 'epsg:4326', 'no_defs': True}\n",
    "wdpa_final.to_crs({'init': 'epsg:4326'})\n",
    "\n",
    "#select right columns and save out\n",
    "wdpa_final.to_file(os.getcwd() + \"/data/WDPA/WDPA_Jun2021_Public_shp/WDPA_Jun2021_Public/clipped_WDPA_Jun2021_Public_flattened.shp\", driver='ESRI Shapefile')"
   ]
  },
  {
   "cell_type": "code",
   "execution_count": 69,
   "metadata": {},
   "outputs": [
    {
     "data": {
      "text/plain": [
       "42698"
      ]
     },
     "execution_count": 69,
     "metadata": {},
     "output_type": "execute_result"
    }
   ],
   "source": [
    "len(wdpa_point_c) + len(wdpa_poly_c)"
   ]
  },
  {
   "cell_type": "code",
   "execution_count": 3,
   "metadata": {},
   "outputs": [],
   "source": [
    "wdpa0 = gpd.read_file(os.getcwd() + \"/data/WDPA/WDPA_Jun2021_Public_shp/WDPA_Jun2021_Public_shp_0/WDPA_Jun2021_Public_shp-polygons.shp\")\n"
   ]
  },
  {
   "cell_type": "code",
   "execution_count": 5,
   "metadata": {},
   "outputs": [
    {
     "data": {
      "text/plain": [
       "array(['Not Applicable', '(vii)(viii)(ix)(x)', '(i)(iii)(iv)(ix)(x)',\n",
       "       '(vii)(viii)', '(vii)(x)', '(vii)', '(ix)(x)',\n",
       "       '(iv)(vii)(viii)(ix)(x)', '(viii)(ix)(x)', '(i)(iii)(iv)(vii)',\n",
       "       '(vii)(viii)(ix)', '(vii)(viii)(x)', '(vii)(ix)(x)',\n",
       "       '(i)(vi)(vii)(ix)(x)', '(iii)(viii)', '(vii)(ix)', '(x)',\n",
       "       '(i)(iii)(vii)(viii)', '(iii)(iv)(vi)(vii)(viii)(ix)(x)',\n",
       "       '(i)(ii)(iii)(iv)(v)(vi)(vii)(viii)(ix)', '(i)(iii)(vii)(ix)',\n",
       "       'Not Reported', '(i)(ii)(iii)(iv)(v)(vi)',\n",
       "       '(i)(ii)(iii)(iv)(v)(vi)(vii)', '(i)(ii)(iii)(v)(vi)',\n",
       "       '(i)(ii)(v)(vi)', '(ii)(iii)(v)(vi)', '(i)(ii)(v)(vi)(viii)',\n",
       "       '(i)(ii)(iv)(vi)(viii)', '(i)(ii)(v)', '(i)(iii)(v)(vi)',\n",
       "       '(i)(ii)(iii)(iv)', '(i)(ii)(iii)(iv)(vi)', '(i)(ii)(vi)',\n",
       "       '(i)(ii)(iii)(iv)(v)(vi)(viii)', '(i)(iii)(v)', '(i)(ii)(iv)(v)',\n",
       "       '(i)(ii)(iii)(iv)(v)(vi)(vii)(ix)',\n",
       "       '(i)(ii)(iii)(iv)(v)(vi)(vii)(viii)', '(viii)',\n",
       "       '(i)(ii)(iv)(v)(vii)', '(i)(ii)(iv)(v)(vi)(vii)', '(v)(vii)',\n",
       "       '(i)(iii)', '(i)(iii)(iv)', '(vi)(vii)(viii)', '(iii)(vii)(ix)(x)',\n",
       "       '(ii)(vii)(x)', '(ii)(iii)(iv)', '(i)(iv)', '(ii)(iv)(v)',\n",
       "       '(i)(ii)(iii)(v)', '(viii)(ix)', '(i)(ii)(iv)',\n",
       "       '(i)(ii)(iii)(iv)(vi)(vii)', '(i)(iii)(iv)(vi)(viii)', '(ii)(iii)',\n",
       "       '(i)(ii)(iii)(iv)(viii)', '(i)(ii)(iii)', '(iii)(v)(vi)',\n",
       "       '(ii)(iii)(iv)(viii)', '(ii)(iv)(vi)', '(i)(ii)(iii)(iv)(v)(viii)',\n",
       "       '(ii)(v)', '(i)(v)(vi)', '(i)(iv)(v)(vi)', '(i)(iii)(vi)',\n",
       "       '(v)(vi)', '(i)(ii)(iii)(iv)(v)', '(i)(ii)(iii)(iv)(v)(vii)',\n",
       "       '(vi)', '(i)(vi)', '(i)(iii)(vii)', '(v)', '(i)(ii)(iv)(v)(vi)',\n",
       "       '(i)', '(ii)(iii)(v)(vii)', '(ii)(iii)(iv)(vii)',\n",
       "       '(i)(ii)(iv)(vi)', '(iii)(iv)', '(iv)(v)', '(ii)(iv)',\n",
       "       '(i)(iii)(iv)(v)', '(i)(iii)(iv)(v)(vi)(vii)(viii)',\n",
       "       '(iii)(iv)(vi)', '(i)(iv)(v)', '(iv)(v)(vi)', '(iii)',\n",
       "       '(ii)(iii)(iv)(v)(vi)', '(i)(ii)(iii)(iv)(vi)(vii)(viii)', '(ii)',\n",
       "       '(ii)(iii)(vi)', '(ii)(iv)(v)(vi)', '(ii)(v)(vi)', '(ii)(vi)',\n",
       "       '(iv)', '(i)(ii)(iv)(v)(vi)(viii)', '(i)(iv)(vi)',\n",
       "       '(i)(iii)(iv)(vi)', '(iv)(vi)', '(i)(ii)(iv)(vii)(viii)',\n",
       "       '(i)(ii)', '(i)(v)(vi)(viii)', '(i)(ii)(iii)(iv)(v)(vii)(viii)',\n",
       "       '(i)(iii)(iv)(v)(vi)', '(i)(ii)(iii)(vii)(viii)',\n",
       "       '(i)(ii)(iii)(iv)(vii)(viii)', '(i)(iii)(viii)',\n",
       "       '(i)(ii)(iii)(v)(viii)', '(i)(ii)(iii)(iv)(vi)(viii)',\n",
       "       '(i)(ii)(iii)(vii)', '(i)(ii)(iii)(v)(vii)', '(i)(ii)(iv)(vii)',\n",
       "       '(ii)(iii)(iv)(vi)(viii)', '(i)(v)', '(i)(ii)(iii)(v)(vii)(viii)',\n",
       "       '(i)(ii)(iii)(vi)', '(iv)(v)(viii)', '(i)(ii)(iii)(viii)',\n",
       "       '(i)(ii)(iii)(iv)(v)(vi)(viii)(ix)', '(iii)(vi)',\n",
       "       '(v)(vi)(vii)(viii)', '(i)(iv)(v)(vi)(vii)(viii)',\n",
       "       '(ii)(iii)(iv)(v)', '(ix)', '(ii)(iii)(iv)(v)(viii)(ix)',\n",
       "       '(i)(ii)(iii)(iv)(vii)', '(i)(iii)(v)(vi)(viii)',\n",
       "       '(i)(ii)(iv)(v)(vi)(vii)(viii)(ix)', '(ii)(vii)',\n",
       "       '(i)(ii)(v)(vi)(vii)(viii)', '(ii)(iii)(iv)(v)(viii)',\n",
       "       '(i)(iii)(iv)(v)(vii)(viii)', '(ii)(iii)(iv)(vii)(viii)',\n",
       "       '(ii)(iv)(v)(vi)(viii)', '(i)(ii)(vii)', '(i)(iv)(viii)',\n",
       "       '(ii)(iii)(iv)(vi)(vii)(viii)', '(ii)(iii)(iv)(v)(vi)(viii)',\n",
       "       '(ii)(iv)(ix)', '(ii)(iii)(iv)(vi)', '(i)(ii)(iv)(v)(vii)(viii)',\n",
       "       '(ii)(iv)(vii)(viii)', '(iv)(vi)(x)', '(iii)(v)(vii)(viii)(ix)',\n",
       "       '(i)(iii)(iv)(viii)', '(i)(ii)(iii)(v)(vi)(viii)',\n",
       "       '(ii)(iii)(iv)(v)(vi)(vii)(viii)', '(ii)(iii)(vii)', '(viii)(x)',\n",
       "       '(iii)(iv)(v)(vii)(viii)', '(ii)(iv)(v)(viii)',\n",
       "       '(i)(ii)(iii)(v)(vi)(vii)(viii)', '(i)(iii)(iv)(vii)(viii)',\n",
       "       '(iii)(vi)(vii)(x)', '(ii)(iii)(iv)(ix)(x)', '(i)(ii)(v)(vii)',\n",
       "       '(i)(ii)(iv)(viii)(ix)', '(i)(ii)(v)(viii)', '(i)(ii)(viii)',\n",
       "       '(ii)(iii)(v)', '(i)(vi)(viii)'], dtype=object)"
      ]
     },
     "execution_count": 5,
     "metadata": {},
     "output_type": "execute_result"
    }
   ],
   "source": [
    "wdpa0.INT_CRIT.unique()"
   ]
  }
 ],
 "metadata": {
  "kernelspec": {
   "display_name": "Python 3",
   "language": "python",
   "name": "python3"
  },
  "language_info": {
   "codemirror_mode": {
    "name": "ipython",
    "version": 3
   },
   "file_extension": ".py",
   "mimetype": "text/x-python",
   "name": "python",
   "nbconvert_exporter": "python",
   "pygments_lexer": "ipython3",
   "version": "3.7.3"
  }
 },
 "nbformat": 4,
 "nbformat_minor": 2
}
