{
 "cells": [
  {
   "cell_type": "code",
   "execution_count": 1,
   "metadata": {},
   "outputs": [],
   "source": [
    "## This file is meant to be run only once\n",
    "%matplotlib inline\n",
    "\n",
    "import matplotlib.pyplot as plt\n",
    "import pandas as pd\n",
    "import numpy as np\n",
    "from shapely.geometry import Polygon\n",
    "import geopandas as gpd\n",
    "import os.path\n",
    "#from PIL import Image\n",
    "import rasterio\n",
    "import math\n",
    "\n",
    "# read in all of your files #TODO make sure these match your file path\n",
    "#os.chdir(\"/oak/stanford/groups/omramom/group_members/aminaly/mountain_biodiversity\")\n",
    "os.chdir(\"/Users/aminaly/Box Sync/mountain_biodiversity\")"
   ]
  },
  {
   "cell_type": "code",
   "execution_count": 2,
   "metadata": {},
   "outputs": [],
   "source": [
    "#### read in and combine all of the wdpa files. ONLY NEEDS TO RUN ONCE\n",
    "\n",
    "## read in all the wdpa files\n",
    "wdpa0 = gpd.read_file(os.getcwd() + \"/data/WDPA/WDPA_Jun2021_Public_shp/WDPA_Jun2021_Public_shp_0/WDPA_Jun2021_Public_shp-polygons.shp\")\n",
    "wdpa1 = gpd.read_file(os.getcwd() + \"/data/WDPA/WDPA_Jun2021_Public_shp/WDPA_Jun2021_Public_shp_1/WDPA_Jun2021_Public_shp-polygons.shp\")\n",
    "wdpa2 = gpd.read_file(os.getcwd() + \"/data/WDPA/WDPA_Jun2021_Public_shp/WDPA_Jun2021_Public_shp_2/WDPA_Jun2021_Public_shp-polygons.shp\")\n",
    "wdpa3 = gpd.read_file(os.getcwd() + \"/data/WDPA/WDPA_Jun2021_Public_shp/WDPA_Jun2021_Public_shp_0/WDPA_Jun2021_Public_shp-points.shp\")\n",
    "wdpa4 = gpd.read_file(os.getcwd() + \"/data/WDPA/WDPA_Jun2021_Public_shp/WDPA_Jun2021_Public_shp_1/WDPA_Jun2021_Public_shp-points.shp\")\n",
    "wdpa5 = gpd.read_file(os.getcwd() + \"/data/WDPA/WDPA_Jun2021_Public_shp/WDPA_Jun2021_Public_shp_2/WDPA_Jun2021_Public_shp-points.shp\")\n",
    "\n",
    "#combine the poly and point dataframes\n",
    "wdpa_poly = gpd.GeoDataFrame(pd.concat([wdpa0, wdpa1, wdpa2]))\n",
    "wdpa_point = gpd.GeoDataFrame(pd.concat([wdpa3, wdpa4, wdpa5]))\n",
    "\n",
    "wdpa_poly.crs = {'init': 'epsg:4326', 'no_defs': True}\n",
    "wdpa_point.crs = {'init': 'epsg:4326', 'no_defs': True}\n",
    "\n",
    "## filter out marine locations \n",
    "wdpa_poly = wdpa_poly[~wdpa_poly['DESIG'].str.contains(\"Marine\")] \n",
    "wdpa_point = wdpa_point[~wdpa_point['DESIG'].str.contains(\"Marine\")]\n",
    "\n",
    "#save these out so we don't have to re-run again\n",
    "wdpa_poly.to_file(os.getcwd() + \"/data/WDPA/WDPA_Jun2021_Public_shp/WDPA_Jun2021_Public/WDPA_Jun2021_Public_shp-polygons.shp\", driver='ESRI Shapefile')\n",
    "wdpa_point.to_file(os.getcwd() + \"/data/WDPA/WDPA_Jun2021_Public_shp/WDPA_Jun2021_Public/WDPA_Jun2021_Public_shp-points.shp\", driver='ESRI Shapefile')"
   ]
  },
  {
   "cell_type": "code",
   "execution_count": null,
   "metadata": {},
   "outputs": [],
   "source": [
    "#### If you don't need to run the above cell, here are the final poly and points to work qith\n",
    "wdpa_poly = gpd.read_file(os.getcwd() + \"/data/WDPA/WDPA_Jun2021_Public_shp/WDPA_Jun2021_Public/WDPA_Jun2021_Public_shp-polygons.shp\", driver='ESRI Shapefile')\n",
    "wdpa_point = gpd.read_file(os.getcwd() + \"/data/WDPA/WDPA_Jun2021_Public_shp/WDPA_Jun2021_Public/WDPA_Jun2021_Public_shp-points.shp\", driver='ESRI Shapefile')\n"
   ]
  },
  {
   "cell_type": "code",
   "execution_count": null,
   "metadata": {},
   "outputs": [],
   "source": [
    "#### Take in points and create buffers around them based on reported area\n",
    "\n",
    "## Add buffers to the point based on their area\n",
    "wdpa_point.crs = {'init': 'epsg:3763', 'no_defs': True}\n",
    "wdpa_point.to_crs({'init': 'epsg:3763'})\n",
    "\n",
    "## calculate the radius\n",
    "wdpa_point['radius'] = np.sqrt(wdpa_point.REP_AREA / np.pi) / 1000\n",
    "\n",
    "## remove entries with 0 reported area/radius\n",
    "wdpa_point.drop(wdpa_point[wdpa_point['radius'] <= 0].index, inplace = True)\n",
    "\n",
    "## create the buffers\n",
    "wdpa_point['geometry'] = wdpa_point.geometry.buffer(wdpa_point.radius)\n",
    "\n",
    "# convert projection back\n",
    "wdpa_point.crs = {'init': 'epsg:4326', 'no_defs': True}\n",
    "wdpa_point.to_crs({'init': 'epsg:4326'})"
   ]
  },
  {
   "cell_type": "code",
   "execution_count": null,
   "metadata": {},
   "outputs": [],
   "source": []
  },
  {
   "cell_type": "code",
   "execution_count": null,
   "metadata": {},
   "outputs": [],
   "source": [
    "#### Identify all the overlaps, dissolve, and combine with non-overlaps\n",
    "overlaps_poly = wdpa_point.intersects(wdpa_poly)\n",
    "\n",
    "# subset poly and point based on the identified overlaps \n",
    "#overlaps_poly = overlaps_poly.reset_index().drop(columns = \"index\")\n",
    "overlaps_poly_sh = wdpa_poly[np.array(overlaps_poly)]\n",
    "nonoverlaps_poly_sh = wdpa_poly[~overlaps_poly]\n",
    "\n",
    "# combine the overlapping polygons with the points \n",
    "overlap_poly_point = gpd.GeoDataFrame(pd.concat([overlaps_poly_sh, wdpa_point]))\n",
    "\n",
    "#dissolve the overlapping polygons with all the points\n",
    "dissolved_overlaps = overlap_poly_point.dissolve(by='WDPAID')\n",
    "\n",
    "# concat new dissolved layer, with the nonoverlapping polygons\n",
    "wdpa_final = gpd.GeoDataFrame(pd.concat([nonoverlaps_poly_sh, dissolved_overlaps]))\n",
    "\n",
    "#make sure the CRS is correct\n",
    "wdpa_final.crs = {'init': 'epsg:4326', 'no_defs': True}\n",
    "wdpa_final.to_crs({'init': 'epsg:4326'})\n",
    "\n",
    "#save out\n",
    "#wdpa_final.to_file(os.getcwd() + \"/data/WDPA/WDPA_Jun2021_Public_shp/WDPA_Jun2021_Public/WDPA_Jun2021_Public_flattened.shp\", driver='ESRI Shapefile')\n"
   ]
  },
  {
   "cell_type": "code",
   "execution_count": 18,
   "metadata": {},
   "outputs": [
    {
     "ename": "ValueError",
     "evalue": "`how` was \"outer\" but is expected to be in ['left', 'right', 'inner']",
     "output_type": "error",
     "traceback": [
      "\u001b[0;31m---------------------------------------------------------------------------\u001b[0m",
      "\u001b[0;31mValueError\u001b[0m                                Traceback (most recent call last)",
      "\u001b[0;32m<ipython-input-18-ceacf89eff71>\u001b[0m in \u001b[0;36m<module>\u001b[0;34m\u001b[0m\n\u001b[1;32m     26\u001b[0m \u001b[0mwdpa_point_c\u001b[0m \u001b[0;34m=\u001b[0m \u001b[0mwdpa_point\u001b[0m\u001b[0;34m[\u001b[0m\u001b[0mwdpa_point\u001b[0m\u001b[0;34m[\u001b[0m\u001b[0;34m'ISO3'\u001b[0m\u001b[0;34m]\u001b[0m\u001b[0;34m.\u001b[0m\u001b[0misin\u001b[0m\u001b[0;34m(\u001b[0m\u001b[0mwrld_cntries\u001b[0m\u001b[0;34m)\u001b[0m\u001b[0;34m]\u001b[0m\u001b[0;34m\u001b[0m\u001b[0;34m\u001b[0m\u001b[0m\n\u001b[1;32m     27\u001b[0m \u001b[0;34m\u001b[0m\u001b[0m\n\u001b[0;32m---> 28\u001b[0;31m \u001b[0moverlap_poly_point\u001b[0m \u001b[0;34m=\u001b[0m \u001b[0mgpd\u001b[0m\u001b[0;34m.\u001b[0m\u001b[0msjoin\u001b[0m\u001b[0;34m(\u001b[0m\u001b[0mwdpa_poly_c\u001b[0m\u001b[0;34m,\u001b[0m \u001b[0mwdpa_point_c\u001b[0m\u001b[0;34m,\u001b[0m \u001b[0mhow\u001b[0m\u001b[0;34m=\u001b[0m\u001b[0;34m\"outer\"\u001b[0m\u001b[0;34m,\u001b[0m \u001b[0mop\u001b[0m\u001b[0;34m=\u001b[0m\u001b[0;34m'intersects'\u001b[0m\u001b[0;34m)\u001b[0m\u001b[0;34m\u001b[0m\u001b[0;34m\u001b[0m\u001b[0m\n\u001b[0m\u001b[1;32m     29\u001b[0m \u001b[0moverlap_poly_point\u001b[0m\u001b[0;34m.\u001b[0m\u001b[0mcrs\u001b[0m \u001b[0;34m=\u001b[0m \u001b[0;34m{\u001b[0m\u001b[0;34m'init'\u001b[0m\u001b[0;34m:\u001b[0m \u001b[0;34m'epsg:4326'\u001b[0m\u001b[0;34m,\u001b[0m \u001b[0;34m'no_defs'\u001b[0m\u001b[0;34m:\u001b[0m \u001b[0;32mTrue\u001b[0m\u001b[0;34m}\u001b[0m\u001b[0;34m\u001b[0m\u001b[0;34m\u001b[0m\u001b[0m\n\u001b[1;32m     30\u001b[0m \u001b[0moverlap_poly_point\u001b[0m\u001b[0;34m.\u001b[0m\u001b[0mto_crs\u001b[0m\u001b[0;34m(\u001b[0m\u001b[0;34m{\u001b[0m\u001b[0;34m'init'\u001b[0m\u001b[0;34m:\u001b[0m \u001b[0;34m'epsg:4326'\u001b[0m\u001b[0;34m}\u001b[0m\u001b[0;34m)\u001b[0m\u001b[0;34m\u001b[0m\u001b[0;34m\u001b[0m\u001b[0m\n",
      "\u001b[0;32m//anaconda3/lib/python3.7/site-packages/geopandas/tools/sjoin.py\u001b[0m in \u001b[0;36msjoin\u001b[0;34m(left_df, right_df, how, op, lsuffix, rsuffix)\u001b[0m\n\u001b[1;32m     46\u001b[0m     \u001b[0;32mif\u001b[0m \u001b[0mhow\u001b[0m \u001b[0;32mnot\u001b[0m \u001b[0;32min\u001b[0m \u001b[0mallowed_hows\u001b[0m\u001b[0;34m:\u001b[0m\u001b[0;34m\u001b[0m\u001b[0;34m\u001b[0m\u001b[0m\n\u001b[1;32m     47\u001b[0m         raise ValueError(\n\u001b[0;32m---> 48\u001b[0;31m             \u001b[0;34m'`how` was \"%s\" but is expected to be in %s'\u001b[0m \u001b[0;34m%\u001b[0m \u001b[0;34m(\u001b[0m\u001b[0mhow\u001b[0m\u001b[0;34m,\u001b[0m \u001b[0mallowed_hows\u001b[0m\u001b[0;34m)\u001b[0m\u001b[0;34m\u001b[0m\u001b[0;34m\u001b[0m\u001b[0m\n\u001b[0m\u001b[1;32m     49\u001b[0m         )\n\u001b[1;32m     50\u001b[0m \u001b[0;34m\u001b[0m\u001b[0m\n",
      "\u001b[0;31mValueError\u001b[0m: `how` was \"outer\" but is expected to be in ['left', 'right', 'inner']"
     ]
    }
   ],
   "source": [
    "# THIS WILL BE DELETED BUT FOR NOW here is a clipped version so we spend less time \n",
    "wdpa_point = gpd.GeoDataFrame(pd.concat([wdpa3, wdpa4, wdpa5]))\n",
    "wdpa_point.crs = {'init': 'epsg:4326', 'no_defs': True}\n",
    "wdpa_point = wdpa_point[~wdpa_point['DESIG'].str.contains(\"Marine\")]\n",
    "wdpa_point.to_file(os.getcwd() + \"/data/WDPA/WDPA_Jun2021_Public_shp/WDPA_Jun2021_Public/WDPA_Jun2021_Public_shp-points.shp\", driver='ESRI Shapefile')\n",
    "\n",
    "## Add buffers to the point based on their area\n",
    "wdpa_point.crs = {'init': 'epsg:3763', 'no_defs': True}\n",
    "wdpa_point.to_crs({'init': 'epsg:3763'})\n",
    "\n",
    "## calculate the radius\n",
    "wdpa_point['radius'] = np.sqrt(wdpa_point.REP_AREA / np.pi) / 1000\n",
    "\n",
    "## remove entries with 0 reported area/radius\n",
    "wdpa_point.drop(wdpa_point[wdpa_point['radius'] <= 0].index, inplace = True)\n",
    "\n",
    "## create the buffers\n",
    "wdpa_point['geometry'] = wdpa_point.geometry.buffer(wdpa_point.radius)\n",
    "\n",
    "# convert projection back\n",
    "wdpa_point.crs = {'init': 'epsg:4326', 'no_defs': True}\n",
    "wdpa_point.to_crs({'init': 'epsg:4326'})\n",
    "\n",
    "wrld_cntries = ['AZE', 'LVA', 'CHE', 'DEU', 'BDI', 'GHA', 'KOR', 'NIC', 'SAU', 'ESP']\n",
    "wdpa_poly_c = wdpa_poly[wdpa_poly['ISO3'].isin(wrld_cntries)]\n",
    "wdpa_point_c = wdpa_point[wdpa_point['ISO3'].isin(wrld_cntries)]\n",
    "\n",
    "# join and also keep track of the ones that don't get joined\n",
    "overlap_poly_point = gpd.sjoin(wdpa_poly_c, wdpa_point_c, how=\"left\", op='intersects')\n",
    "wdpa_points_not_intersected = wdpa_point_c[~wdpa_point_c['WDPA_PID'].isin(overlap_poly_point['WDPA_PID_right'])]\n",
    "\n",
    "# combine intersection and those that weren't joined\n",
    "wdpa_final = gpd.GeoDataFrame(pd.concat([overlap_poly_point, wdpa_points_not_intersected]))\n",
    "\n",
    "# reset the epsg\n",
    "wdpa_final.crs = {'init': 'epsg:4326', 'no_defs': True}\n",
    "wdpa_final.to_crs({'init': 'epsg:4326'})\n",
    "\n",
    "#save out\n",
    "wdpa_final.to_file(os.getcwd() + \"/data/WDPA/WDPA_Jun2021_Public_shp/WDPA_Jun2021_Public/clipped_WDPA_Jun2021_Public_flattened.shp\", driver='ESRI Shapefile')"
   ]
  },
  {
   "cell_type": "code",
   "execution_count": 20,
   "metadata": {},
   "outputs": [],
   "source": [
    "overlap_poly_point = gpd.sjoin(wdpa_poly_c, wdpa_point_c, how=\"left\", op='intersects')\n"
   ]
  },
  {
   "cell_type": "code",
   "execution_count": 29,
   "metadata": {},
   "outputs": [],
   "source": []
  },
  {
   "cell_type": "code",
   "execution_count": 30,
   "metadata": {},
   "outputs": [
    {
     "data": {
      "text/plain": [
       "9"
      ]
     },
     "execution_count": 30,
     "metadata": {},
     "output_type": "execute_result"
    }
   ],
   "source": [
    "len(wdpa_points_not_intersected.index)"
   ]
  },
  {
   "cell_type": "code",
   "execution_count": 31,
   "metadata": {},
   "outputs": [
    {
     "data": {
      "text/plain": [
       "7"
      ]
     },
     "execution_count": 31,
     "metadata": {},
     "output_type": "execute_result"
    }
   ],
   "source": [
    "len(wdpa_point_c[wdpa_point_c['WDPA_PID'].isin(overlap_poly_point['WDPA_PID_right'])].index)"
   ]
  },
  {
   "cell_type": "code",
   "execution_count": null,
   "metadata": {},
   "outputs": [],
   "source": []
  },
  {
   "cell_type": "code",
   "execution_count": 32,
   "metadata": {},
   "outputs": [
    {
     "data": {
      "text/plain": [
       "16"
      ]
     },
     "execution_count": 32,
     "metadata": {},
     "output_type": "execute_result"
    }
   ],
   "source": [
    "len(wdpa_point_c)"
   ]
  },
  {
   "cell_type": "code",
   "execution_count": null,
   "metadata": {},
   "outputs": [],
   "source": []
  },
  {
   "cell_type": "code",
   "execution_count": null,
   "metadata": {},
   "outputs": [],
   "source": []
  },
  {
   "cell_type": "code",
   "execution_count": null,
   "metadata": {},
   "outputs": [],
   "source": []
  },
  {
   "cell_type": "code",
   "execution_count": null,
   "metadata": {},
   "outputs": [],
   "source": []
  },
  {
   "cell_type": "code",
   "execution_count": null,
   "metadata": {},
   "outputs": [],
   "source": []
  },
  {
   "cell_type": "code",
   "execution_count": 22,
   "metadata": {},
   "outputs": [
    {
     "data": {
      "text/plain": [
       "42599"
      ]
     },
     "execution_count": 22,
     "metadata": {},
     "output_type": "execute_result"
    }
   ],
   "source": [
    "len(wdpa_poly_c.index)"
   ]
  },
  {
   "cell_type": "code",
   "execution_count": null,
   "metadata": {},
   "outputs": [],
   "source": []
  },
  {
   "cell_type": "code",
   "execution_count": null,
   "metadata": {},
   "outputs": [],
   "source": []
  },
  {
   "cell_type": "code",
   "execution_count": null,
   "metadata": {},
   "outputs": [],
   "source": []
  },
  {
   "cell_type": "code",
   "execution_count": null,
   "metadata": {},
   "outputs": [],
   "source": []
  },
  {
   "cell_type": "code",
   "execution_count": null,
   "metadata": {},
   "outputs": [],
   "source": []
  },
  {
   "cell_type": "code",
   "execution_count": 9,
   "metadata": {},
   "outputs": [
    {
     "data": {
      "text/plain": [
       "<matplotlib.axes._subplots.AxesSubplot at 0x167e55748>"
      ]
     },
     "execution_count": 9,
     "metadata": {},
     "output_type": "execute_result"
    },
    {
     "data": {
      "image/png": "[encoded data removed]",
      "text/plain": [
       "<Figure size 432x288 with 1 Axes>"
      ]
     },
     "metadata": {
      "needs_background": "light"
     },
     "output_type": "display_data"
    }
   ],
   "source": [
    "wdpa_point_c.head(50).plot()\n"
   ]
  },
  {
   "cell_type": "code",
   "execution_count": null,
   "metadata": {},
   "outputs": [],
   "source": []
  },
  {
   "cell_type": "code",
   "execution_count": null,
   "metadata": {},
   "outputs": [],
   "source": []
  },
  {
   "cell_type": "code",
   "execution_count": null,
   "metadata": {},
   "outputs": [],
   "source": []
  },
  {
   "cell_type": "code",
   "execution_count": null,
   "metadata": {},
   "outputs": [],
   "source": []
  },
  {
   "cell_type": "code",
   "execution_count": null,
   "metadata": {},
   "outputs": [],
   "source": []
  }
 ],
 "metadata": {
  "kernelspec": {
   "display_name": "Python 3",
   "language": "python",
   "name": "python3"
  },
  "language_info": {
   "codemirror_mode": {
    "name": "ipython",
    "version": 3
   },
   "file_extension": ".py",
   "mimetype": "text/x-python",
   "name": "python",
   "nbconvert_exporter": "python",
   "pygments_lexer": "ipython3",
   "version": "3.7.3"
  }
 },
 "nbformat": 4,
 "nbformat_minor": 2
}
