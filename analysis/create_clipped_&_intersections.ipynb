{
 "cells": [
  {
   "cell_type": "code",
   "execution_count": 7,
   "metadata": {},
   "outputs": [],
   "source": [
    "%matplotlib inline\n",
    "\n",
    "import matplotlib.pyplot as plt\n",
    "import pandas as pd\n",
    "import numpy as np\n",
    "import descartes\n",
    "from shapely.geometry import Polygon\n",
    "import geopandas as gpd\n",
    "import os.path\n",
    "from PIL import Image\n",
    "import rasterio\n",
    "\n",
    "## global variables\n",
    "CLIP = True\n",
    "INTERSEC = False\n",
    "\n",
    "#set working directory\n",
    "os.chdir(\"/Users/aminaly/Box Sync/mountain_biodiversity\")\n",
    "\n"
   ]
  },
  {
   "cell_type": "code",
   "execution_count": 9,
   "metadata": {},
   "outputs": [
    {
     "ename": "AttributeError",
     "evalue": "'set' object has no attribute 'unique'",
     "output_type": "error",
     "traceback": [
      "\u001b[0;31m---------------------------------------------------------------------------\u001b[0m",
      "\u001b[0;31mAttributeError\u001b[0m                            Traceback (most recent call last)",
      "\u001b[0;32m<ipython-input-9-90d68a6293d7>\u001b[0m in \u001b[0;36m<module>\u001b[0;34m\u001b[0m\n\u001b[1;32m     12\u001b[0m     \u001b[0mwrld_cntries\u001b[0m \u001b[0;34m=\u001b[0m \u001b[0mworld_sample\u001b[0m\u001b[0;34m.\u001b[0m\u001b[0mCNTRY_NAME\u001b[0m\u001b[0;34m.\u001b[0m\u001b[0munique\u001b[0m\u001b[0;34m(\u001b[0m\u001b[0;34m)\u001b[0m\u001b[0;34m\u001b[0m\u001b[0;34m\u001b[0m\u001b[0m\n\u001b[1;32m     13\u001b[0m     \u001b[0mwrld_cntries\u001b[0m \u001b[0;34m=\u001b[0m \u001b[0mset\u001b[0m\u001b[0;34m(\u001b[0m\u001b[0mnp\u001b[0m\u001b[0;34m.\u001b[0m\u001b[0mconcatenate\u001b[0m\u001b[0;34m(\u001b[0m\u001b[0;34m(\u001b[0m\u001b[0mwrld_cntries\u001b[0m\u001b[0;34m,\u001b[0m \u001b[0;34m[\u001b[0m\u001b[0;34m'Switzerland'\u001b[0m\u001b[0;34m,\u001b[0m \u001b[0;34m'Germany'\u001b[0m\u001b[0;34m,\u001b[0m \u001b[0;34m'South Korea'\u001b[0m\u001b[0;34m,\u001b[0m \u001b[0;34m'Ghana'\u001b[0m\u001b[0;34m]\u001b[0m\u001b[0;34m)\u001b[0m\u001b[0;34m)\u001b[0m\u001b[0;34m)\u001b[0m \u001b[0;31m## add a few\u001b[0m\u001b[0;34m\u001b[0m\u001b[0;34m\u001b[0m\u001b[0m\n\u001b[0;32m---> 14\u001b[0;31m     \u001b[0mwrld_cntries\u001b[0m \u001b[0;34m=\u001b[0m \u001b[0mwrld_cntries\u001b[0m\u001b[0;34m.\u001b[0m\u001b[0munique\u001b[0m\u001b[0;34m(\u001b[0m\u001b[0;34m)\u001b[0m\u001b[0;34m\u001b[0m\u001b[0;34m\u001b[0m\u001b[0m\n\u001b[0m\u001b[1;32m     15\u001b[0m     \u001b[0mworld_sample\u001b[0m \u001b[0;34m=\u001b[0m \u001b[0mworld\u001b[0m\u001b[0;34m[\u001b[0m\u001b[0mworld\u001b[0m\u001b[0;34m[\u001b[0m\u001b[0;34m'CNTRY_NAME'\u001b[0m\u001b[0;34m]\u001b[0m\u001b[0;34m.\u001b[0m\u001b[0misin\u001b[0m\u001b[0;34m(\u001b[0m\u001b[0mwrld_cntries\u001b[0m\u001b[0;34m)\u001b[0m\u001b[0;34m]\u001b[0m \u001b[0;31m#make sure our shapefile has the new countries\u001b[0m\u001b[0;34m\u001b[0m\u001b[0;34m\u001b[0m\u001b[0m\n\u001b[1;32m     16\u001b[0m \u001b[0;34m\u001b[0m\u001b[0m\n",
      "\u001b[0;31mAttributeError\u001b[0m: 'set' object has no attribute 'unique'"
     ]
    }
   ],
   "source": [
    "#Clip KBA\n",
    "if(CLIP):\n",
    "    \n",
    "\n",
    "if(CLIP):\n",
    "    # read in all of your files #TODO make sure these match your file path\n",
    "\n",
    "    kba = gpd.read_file(os.getcwd() + \"/data/KBA/KBA2020/KBAsGlobal_2020_September_02_POL.shp\")\n",
    "    #wdpa = gpd.read_file(os.getcwd() + \"/data/WDPA/WDPA_Jun2021_Public_shp/WDPA_Jun2021_Public/clipped_WDPA_Jun2021_Public_flattened.shp\")\n",
    "    gmba = gpd.read_file(os.getcwd() + \"/data/GMBA/GMBA_Inventory_V2_210420_GME/GMBA_Inventory_V2_210420_GME.shp\")\n",
    "    \n",
    "    #sample 25 random countries and those will be what we use to subset everything\n",
    "    world = gpd.read_file(os.getcwd() + \"/data/World/world_shp/world.shp\")\n",
    "    world_sample = world.sample(7) #sample 7 randoms\n",
    "    wrld_cntries = world_sample.CNTRY_NAME.unique()\n",
    "    wrld_cntries = set(np.concatenate((wrld_cntries, ['Switzerland', 'Germany', 'South Korea', 'Ghana']))) ## add a few\n",
    "    world_sample = world[world['CNTRY_NAME'].isin(wrld_cntries)] #make sure our shapefile has the new countries\n",
    "\n",
    "    ## Using the countries picked out in world_sample, get \n",
    "    kba_clipped = kba[kba['Country'].isin(wrld_cntries)]\n",
    "\n",
    "    ## Clip the countries using a random sample of ISO3 codes\n",
    "    #wdpa_clipped = wdpa[wdpa['ISO3'].isin(kba_clipped.ISO3.unique())]\n",
    "    #filter out the ones wdpa didn't have\n",
    "    #kba_clipped = kba_clipped[kba_clipped['ISO3'].isin(wdpa_clipped.ISO3.unique())]\n",
    "\n",
    "    ## Clip the mountain ranges to only include those that exist in the countries included above\n",
    "    #cut out any of the countries the two above didn't pick up\n",
    "    world_sample = world_sample[world_sample['CNTRY_NAME'].isin(kba_clipped['Country'].unique())] \n",
    "    gmba_clipped = gpd.overlay(gmba, world_sample, how=\"intersection\")\n",
    "    \n",
    "    #Once we've clipped them, save them out as shapefiles\n",
    "    kba_clipped.to_file(os.getcwd() + \"/data/KBA/KBA2020/clipped_KBAsGlobal_2020_September_02_POL.shp\", \n",
    "                        driver='ESRI Shapefile')\n",
    "\n",
    "    #wdpa_clipped.to_file(os.getcwd() + \n",
    "    #                     \"/data/WDPA/WDPA_Jun2021_Public_shp/WDPA_Jun2021_Public/clipped_WDPA_Jun2021_Public_flattened.shp\",\n",
    "    #                   driver='ESRI Shapefile')\n",
    "\n",
    "    gmba_clipped.to_file(os.getcwd() + \"/data/GMBA/GMBA_Inventory_V2_210420_GME/clipped_GMBA_Inventory_V2_210420_GME.shp\", \n",
    "                        driver='ESRI Shapefile')"
   ]
  },
  {
   "cell_type": "code",
   "execution_count": 17,
   "metadata": {},
   "outputs": [],
   "source": [
    "if(INTERSEC):\n",
    "    ## first we overlay pa and kba\n",
    "    if(CLIP):\n",
    "        gmba_kba = gpd.overlay(kba_clipped, gmba_clipped, how = \"intersection\")\n",
    "        gmba_kba.to_file(os.getcwd() + \"/data/Combined/clipped_wdpa_kba.shp\", driver = 'ESRI Shapefile')\n",
    "    else: \n",
    "        gmba_kba = gpd.overlay(kba, gmba, how = \"intersection\")\n",
    "        gmba_kba.to_file(os.getcwd() + \"/data/Combined/wdpa_kba.shp\", driver = 'ESRI Shapefile')\n"
   ]
  },
  {
   "cell_type": "code",
   "execution_count": 13,
   "metadata": {},
   "outputs": [],
   "source": [
    "world_sample = world[world['CNTRY_NAME'].isin(wrld_cntries)] #make sure our shapefile has the new countries\n",
    "\n",
    "## Using the countries picked out in world_sample, get \n",
    "kba_clipped = kba[kba['Country'].isin(wrld_cntries)]\n",
    "\n",
    "world_sample = world_sample[world_sample['CNTRY_NAME'].isin(kba_clipped['Country'].unique())] \n",
    "gmba_clipped = gpd.overlay(gmba, world_sample, how=\"intersection\")\n",
    "\n",
    "#Once we've clipped them, save them out as shapefiles\n",
    "kba_clipped.to_file(os.getcwd() + \"/data/KBA/KBA2020/clipped_KBAsGlobal_2020_September_02_POL.shp\", \n",
    "                    driver='ESRI Shapefile')\n",
    "\n",
    "gmba_clipped.to_file(os.getcwd() + \"/data/GMBA/GMBA_Inventory_V2_210420_GME/clipped_GMBA_Inventory_V2_210420_GME.shp\", \n",
    "                     driver='ESRI Shapefile')"
   ]
  },
  {
   "cell_type": "code",
   "execution_count": 16,
   "metadata": {},
   "outputs": [
    {
     "data": {
      "text/plain": [
       "array(['AZE', 'LVA', 'CHE', 'DEU', 'BDI', 'GHA', 'KOR', 'NIC', 'SAU',\n",
       "       'ESP'], dtype=object)"
      ]
     },
     "execution_count": 16,
     "metadata": {},
     "output_type": "execute_result"
    }
   ],
   "source": [
    "kba_clipped.ISO3.unique()"
   ]
  },
  {
   "cell_type": "code",
   "execution_count": 19,
   "metadata": {},
   "outputs": [
    {
     "ename": "NameError",
     "evalue": "name 'wdpa' is not defined",
     "output_type": "error",
     "traceback": [
      "\u001b[0;31m---------------------------------------------------------------------------\u001b[0m",
      "\u001b[0;31mNameError\u001b[0m                                 Traceback (most recent call last)",
      "\u001b[0;32m<ipython-input-19-785b5c9057a1>\u001b[0m in \u001b[0;36m<module>\u001b[0;34m\u001b[0m\n\u001b[0;32m----> 1\u001b[0;31m \u001b[0mwdpa\u001b[0m\u001b[0;34m.\u001b[0m\u001b[0mhead\u001b[0m\u001b[0;34m(\u001b[0m\u001b[0;34m)\u001b[0m\u001b[0;34m\u001b[0m\u001b[0;34m\u001b[0m\u001b[0m\n\u001b[0m",
      "\u001b[0;31mNameError\u001b[0m: name 'wdpa' is not defined"
     ]
    }
   ],
   "source": [
    "wdpa.head()"
   ]
  },
  {
   "cell_type": "code",
   "execution_count": null,
   "metadata": {},
   "outputs": [],
   "source": []
  },
  {
   "cell_type": "code",
   "execution_count": null,
   "metadata": {},
   "outputs": [],
   "source": []
  },
  {
   "cell_type": "code",
   "execution_count": null,
   "metadata": {},
   "outputs": [],
   "source": []
  },
  {
   "cell_type": "code",
   "execution_count": null,
   "metadata": {},
   "outputs": [],
   "source": []
  },
  {
   "cell_type": "code",
   "execution_count": null,
   "metadata": {},
   "outputs": [],
   "source": []
  }
 ],
 "metadata": {
  "kernelspec": {
   "display_name": "Python 3",
   "language": "python",
   "name": "python3"
  },
  "language_info": {
   "codemirror_mode": {
    "name": "ipython",
    "version": 3
   },
   "file_extension": ".py",
   "mimetype": "text/x-python",
   "name": "python",
   "nbconvert_exporter": "python",
   "pygments_lexer": "ipython3",
   "version": "3.7.3"
  }
 },
 "nbformat": 4,
 "nbformat_minor": 2
}
