{
 "cells": [
  {
   "cell_type": "code",
   "execution_count": 1,
   "metadata": {},
   "outputs": [],
   "source": [
    "%matplotlib inline\n",
    "\n",
    "import matplotlib.pyplot as plt\n",
    "import pandas as pd\n",
    "import numpy as np\n",
    "import descartes\n",
    "from shapely.geometry import Polygon\n",
    "import geopandas as gpd\n",
    "import os.path\n",
    "from PIL import Image\n",
    "import rasterio\n",
    "\n",
    "## global variables\n",
    "CLIP = True\n",
    "INTERSEC = False\n",
    "\n"
   ]
  },
  {
   "cell_type": "code",
   "execution_count": 5,
   "metadata": {},
   "outputs": [],
   "source": [
    "if(CLIP):\n",
    "    # read in all of your files #TODO make sure these match your file path\n",
    "    os.chdir(\"/Users/aminaly/Box Sync/mountain_biodiversity\")\n",
    "\n",
    "    kba = gpd.read_file(os.getcwd() + \"/data/KBA/KBA2020/KBAsGlobal_2020_September_02_POL.shp\")\n",
    "    wdpa = gpd.read_file(os.getcwd() + \"/data/WDPA/WDPA_May2021_Public_shp/WDPA_May2021_Public/clipped_WDPA_May2021_Public_flattened.shp\")\n",
    "    gmba = gpd.read_file(os.getcwd() + \"/data/GMBA/GMBA_Inventory_V2_210420_GME/GMBA_Inventory_V2_210420_GME.shp\")\n",
    "    \n",
    "    #sample 25 random countries and those will be what we use to subset everything\n",
    "    world = gpd.read_file(os.getcwd() + \"/data/World/world_shp/world.shp\")\n",
    "    world_sample = world.sample(15)\n",
    "    wrld_cntries = world_sample.CNTRY_NAME.unique()\n",
    "    wrld_cntries = set(np.concatenate((wrld_cntries, ['Switzerland', 'Germany'])))\n",
    "    \n",
    "    ## overrriding and just adding a manual list for right now\n",
    "    wrld_cntries = ['Switzerland', 'Germany', 'South Korea', 'Ghana']\n",
    "    \n",
    "    ## Using the countries picked out in world_sample, get \n",
    "    kba_clipped = kba[kba['Country'].isin(wrld_cntries)]\n",
    "    #kba_clipped = gpd.overlay(kba, world_sample, how=\"intersection\")\n",
    "\n",
    "    ## Clip the countries using a random sample of ISO3 codes\n",
    "    wdpa_clipped = wdpa[wdpa['ISO3'].isin(kba_clipped.ISO3.unique())]\n",
    "    #filter out the ones wdpa didn't have\n",
    "    kba_clipped = kba_clipped[kba_clipped['ISO3'].isin(wdpa_clipped.ISO3.unique())]\n",
    "\n",
    "    ## Clip the mountain ranges to only include those that exist in the countries included above\n",
    "    #cut out any of the countries the two above didn't pick up\n",
    "    world_sample = world_sample[world_sample['CNTRY_NAME'].isin(kba_clipped['Country'].unique())] \n",
    "    gmba_clipped = gpd.overlay(gmba, world_sample, how=\"intersection\")\n",
    "    \n",
    "    #Once we've clipped them, save them out as shapefiles\n",
    "    kba_clipped.to_file(os.getcwd() + \"/data/KBA/KBA2020/clipped_KBAsGlobal_2020_September_02_POL.shp\", \n",
    "                        driver='ESRI Shapefile')\n",
    "\n",
    "    wdpa_clipped.to_file(os.getcwd() + \n",
    "                         \"/data/WDPA/WDPA_May2021_Public_shp/WDPA_May2021_Public/clipped_WDPA_May2021_Public_flattened.shp\",\n",
    "                       driver='ESRI Shapefile')\n",
    "\n",
    "    gmba_clipped.to_file(os.getcwd() + \"/data/GMBA/GMBA_Inventory_V2_210420_GME/clipped_GMBA_Inventory_V2_210420_GME.shp\", \n",
    "                        driver='ESRI Shapefile')"
   ]
  },
  {
   "cell_type": "code",
   "execution_count": 74,
   "metadata": {},
   "outputs": [],
   "source": [
    "if(INTERSEC):\n",
    "    ## first we overlay pa and kba\n",
    "    if(CLIP):\n",
    "        wdpa_kba = gpd.overlay(wdpa_clipped, kba_clipped, how = \"intersection\")\n",
    "        wdpa_kba_clipped.to_file(os.getcwd() + \"/data/Combined/clipped_wdpa_kba.shp\", driver = 'ESRI Shapefile')\n",
    "    else: \n",
    "        wdpa_kba = gpd.overlay(wdpa, kba, how = \"intersection\")\n",
    "        wdpa_kba.to_file(os.getcwd() + \"/data/Combined/wdpa_kba.shp\", driver = 'ESRI Shapefile')\n"
   ]
  },
  {
   "cell_type": "code",
   "execution_count": 68,
   "metadata": {},
   "outputs": [],
   "source": [
    "\n",
    "wdpa_kba.to_file(os.getcwd() + \"/data/wdpa_kba_gmba/wdpa_kba_gmba.shp\", driver = 'ESRI Shapefile')"
   ]
  },
  {
   "cell_type": "code",
   "execution_count": 34,
   "metadata": {},
   "outputs": [],
   "source": [
    "wdpa = gpd.read_file(os.getcwd() + \"/data/WDPA/WDPA_May2021_Public_shp/WDPA_May2021_Public/WDPA_May2021_Public_shp-polygons.shp\", driver='ESRI Shapefile')"
   ]
  },
  {
   "cell_type": "code",
   "execution_count": 50,
   "metadata": {},
   "outputs": [
    {
     "data": {
      "text/plain": [
       "array(['Grenada', 'Christmas Island', 'Jamaica', 'Costa Rica', 'Anguilla',\n",
       "       'Pacific Islands (Palau)', 'Ghana', 'Nepal', 'Cambodia',\n",
       "       'Tanzania, United Republic of', 'British Virgin Islands',\n",
       "       'Ivory Coast', 'Macedonia', 'Nicaragua', 'Guernsey',\n",
       "       'Norfolk Island', 'Fiji', 'Algeria', 'El Salvador', 'Netherlands',\n",
       "       'Angola', 'Malta', 'Bahrain', 'South Korea', 'Sudan',\n",
       "       'Switzerland', 'Germany', 'Tanzania'], dtype=object)"
      ]
     },
     "execution_count": 50,
     "metadata": {},
     "output_type": "execute_result"
    }
   ],
   "source": [
    "np.concatenate((wrld_cntries, ['Switzerland', 'Germany', 'Tanzania']))\n"
   ]
  }
 ],
 "metadata": {
  "kernelspec": {
   "display_name": "Python 3",
   "language": "python",
   "name": "python3"
  },
  "language_info": {
   "codemirror_mode": {
    "name": "ipython",
    "version": 3
   },
   "file_extension": ".py",
   "mimetype": "text/x-python",
   "name": "python",
   "nbconvert_exporter": "python",
   "pygments_lexer": "ipython3",
   "version": "3.7.3"
  }
 },
 "nbformat": 4,
 "nbformat_minor": 2
}
