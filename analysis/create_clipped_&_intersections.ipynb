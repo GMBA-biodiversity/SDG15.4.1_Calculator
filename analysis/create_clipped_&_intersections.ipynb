{
 "cells": [
  {
   "cell_type": "code",
   "execution_count": 1,
   "metadata": {},
   "outputs": [],
   "source": [
    "%matplotlib inline\n",
    "\n",
    "import matplotlib.pyplot as plt\n",
    "import pandas as pd\n",
    "import numpy as np\n",
    "import descartes\n",
    "from shapely.geometry import Polygon\n",
    "import geopandas as gpd\n",
    "import os.path\n",
    "from PIL import Image\n",
    "import rasterio\n",
    "\n",
    "## global variables\n",
    "CLIP = False\n",
    "INTERSEC = True\n",
    "\n",
    "#set working directory\n",
    "os.chdir(\"/Users/aminaly/Box Sync/mountain_biodiversity\")\n",
    "\n"
   ]
  },
  {
   "cell_type": "code",
   "execution_count": 14,
   "metadata": {},
   "outputs": [],
   "source": [
    " if(CLIP):\n",
    "    # read in all of your files #TODO make sure these match your file path\n",
    "\n",
    "    kba = gpd.read_file(os.getcwd() + \"/data/KBA/KBA2020/KBAsGlobal_2020_September_02_POL.shp\")\n",
    "    wdpa = gpd.read_file(os.getcwd() + \"/data/WDPA/WDPA_Jun2021_Public_shp/WDPA_Jun2021_Public/WDPA_Jun2021_Public_flattened.shp\")\n",
    "    gmba = gpd.read_file(os.getcwd() + \"/data/GMBA/Gmba_Inventory_GME_210420_Sel_292_attr/Gmba_Inventory_GME_210420_Sel_292_attr.shp\")\n",
    "    \n",
    "    #list of ISOs to use to clip kba & wdpa\n",
    "    wrld_cntries = ['CHE', 'DEU', 'GHA', 'KOR', 'ZAF']\n",
    "    \n",
    "    #clip kba and wdpa using the list of isos \n",
    "    kba_c = kba[kba['ISO3'].isin(wrld_cntries)]\n",
    "    wdpa = wdpa[wdpa['ISO3'].isin(wrld_cntries)]\n",
    "    \n",
    "    #gmba will be clipped a little differently. Doesn't have ISOs so we'll use a world shapefile\n",
    "    world = gpd.read_file(os.getcwd() + \"/data/World/world_shp/world.shp\")\n",
    "    world = world[world['CNTRY_NAME'].isin(kba_c['Country'].unique())] \n",
    "    gmba_c = gpd.overlay(gmba, world, how=\"intersection\")\n",
    "    #then we find a list of all the ranges included in the clip, and select those specifically from the main gmba\n",
    "    gmba_c = gmba[gmba.GMBA_V2_ID.isin(gmba_c.GMBA_V2_ID)]\n",
    "    \n",
    "    #Once we've clipped them, save them out as shapefiles\n",
    "    kba_c.to_file(os.getcwd() + \"/data/KBA/KBA2020/clipped_KBAsGlobal_2020_September_02_POL.shp\", \n",
    "                        driver='ESRI Shapefile')\n",
    "\n",
    "    wdpa.to_file(os.getcwd() + \n",
    "                         \"/data/WDPA/WDPA_Jun2021_Public_shp/WDPA_Jun2021_Public/clipped_WDPA_Jun2021_Public_flattened.shp\",\n",
    "                       driver='ESRI Shapefile')\n",
    "\n",
    "    gmba_c.to_file(os.getcwd() + \"/data/GMBA/Gmba_Inventory_GME_210420_Sel_292_attr/clipped_Gmba_Inventory_GME_210420_Sel_292_attr.shp\", \n",
    "                        driver='ESRI Shapefile')"
   ]
  },
  {
   "cell_type": "code",
   "execution_count": null,
   "metadata": {},
   "outputs": [],
   "source": [
    "if(INTERSEC):\n",
    "    ## first we overlay kba and gmba\n",
    "    if(CLIP):\n",
    "        gmba_kba = gpd.overlay(kba_c, gmba_c, how = \"intersection\")\n",
    "        gmba_kba.to_file(os.getcwd() + \"/data/Combined/clipped_gmba_kba.shp\", driver = 'ESRI Shapefile')\n",
    "    else: \n",
    "        kba = gpd.read_file(os.getcwd() + \"/data/KBA/KBA2020/KBAsGlobal_2020_September_02_POL.shp\")\n",
    "        gmba = gpd.read_file(os.getcwd() + \"/data/GMBA/Gmba_Inventory_GME_210420_Sel_292_attr/Gmba_Inventory_GME_210420_Sel_292_attr.shp\")\n",
    "\n",
    "        gmba_kba = gpd.overlay(kba, gmba, how = \"intersection\")\n",
    "        gmba_kba.to_file(os.getcwd() + \"/data/Combined/gmba_kba.shp\", driver = 'ESRI Shapefile')\n"
   ]
  },
  {
   "cell_type": "code",
   "execution_count": 11,
   "metadata": {},
   "outputs": [],
   "source": [
    "INTERSEC = True\n"
   ]
  },
  {
   "cell_type": "code",
   "execution_count": null,
   "metadata": {},
   "outputs": [],
   "source": []
  },
  {
   "cell_type": "code",
   "execution_count": 3,
   "metadata": {},
   "outputs": [],
   "source": [
    "gmba = gpd.read_file(os.getcwd() + \"/data/GMBA/Gmba_Inventory_GME_210420_Sel_292_attr/Gmba_Inventory_GME_210420_Sel_292_attr.shp\")\n"
   ]
  },
  {
   "cell_type": "code",
   "execution_count": null,
   "metadata": {},
   "outputs": [],
   "source": [
    "gmba_c.head()"
   ]
  },
  {
   "cell_type": "code",
   "execution_count": null,
   "metadata": {},
   "outputs": [],
   "source": [
    "len(gmba_c.index)"
   ]
  },
  {
   "cell_type": "code",
   "execution_count": null,
   "metadata": {},
   "outputs": [],
   "source": []
  },
  {
   "cell_type": "code",
   "execution_count": null,
   "metadata": {},
   "outputs": [],
   "source": []
  },
  {
   "cell_type": "code",
   "execution_count": null,
   "metadata": {},
   "outputs": [],
   "source": []
  }
 ],
 "metadata": {
  "kernelspec": {
   "display_name": "Python 3",
   "language": "python",
   "name": "python3"
  },
  "language_info": {
   "codemirror_mode": {
    "name": "ipython",
    "version": 3
   },
   "file_extension": ".py",
   "mimetype": "text/x-python",
   "name": "python",
   "nbconvert_exporter": "python",
   "pygments_lexer": "ipython3",
   "version": "3.7.3"
  }
 },
 "nbformat": 4,
 "nbformat_minor": 2
}
